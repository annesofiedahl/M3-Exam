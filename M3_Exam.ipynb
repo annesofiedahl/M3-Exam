{
  "cells": [
    {
      "cell_type": "markdown",
      "metadata": {
        "id": "view-in-github",
        "colab_type": "text"
      },
      "source": [
        "<a href=\"https://colab.research.google.com/github/annesofiedahl/M3-Exam/blob/main/M3_Exam.ipynb\" target=\"_parent\"><img src=\"https://colab.research.google.com/assets/colab-badge.svg\" alt=\"Open In Colab\"/></a>"
      ]
    },
    {
      "cell_type": "markdown",
      "metadata": {
        "id": "FTnqPOwNiT6I"
      },
      "source": [
        "# 1. Problem Statement"
      ]
    },
    {
      "cell_type": "markdown",
      "metadata": {
        "id": "B90io-e9iT6J"
      },
      "source": [
        "The amount of data stored by businesses, is larger than ever before (Jackson, 2020), and because of this, companies now have to consider how to obtain value from this data. It is vital for a company to pay attention to the overall performance of the business, because it determines whether or not the company will be profitable. Furthermore it enables the possibility of conveying such data into valurable knowledge. With the increasing amount of data available to businesses, it is becomming even more essential to have the skills required to convert these data into meaningful information, that can be helpful to the employees, when dealing with, for instance, marketing or sales strategies. \n",
        "\n",
        "To demonstrate how datasets, created and maintained by individual business, can be processed and used to create meaningfull information for set business, a dataset in regards to Bank Marketing is used. The dataset is retrieved from a portugese financial institution, and this dataset is a good example of the data available within most firms today.\n",
        "\n",
        "The data included origins from a Bank Marketing dataset, and is related to a direct marketing campaigns in the form of phone calls. The dataset includes data regarding 41.188 clients of the bank, hereof the clients _age, job, marital, education_; and whether the client has credit in _default, a housing loan and personal loans_. Furthermore the dataset contains information regarding the _date when a company employee was in contact with the customer last and the contact communication type_. The dataset also contains information regarding social and economic context attributes and some other attributes regarding the campaign at hand. Lastly, the dataset contains the output variable, that is; whether or not a client has subscribed a term deposit, which will be the variable of interest. \n",
        "\n",
        "This dataset has the possibility of demonstrating how businesses collected data can be used in predicting outcomes. In this case it will be useful to know whether or not a client will subscribe to a term deposit, only by looking at the attributes related to the individual client. This information can be used to develop better marketing campaigns, by targeting people that are more likely to buy this product. This way, the companies can optimize, for instance, direct or indirect marketing towards people that are product retractors or have doubts about a potential purchase. Thus data like this can be used for better and more specific marketing and can further create competetive advantages of the businesses market insights.\n",
        "\n",
        "_Jackson, Jarret. \"Businesses Have More Data Than Ever Before, But Do They Measure What They Manage?\" Forbes, 15 July 2020. www.forbes.com/sites/jarretjackson/2020/07/15/businesses-have-more-data-than-ever-before-but-do-they-measure-what-they-manage/?sh=3808df57693a._\n"
      ]
    },
    {
      "cell_type": "markdown",
      "metadata": {
        "id": "G_HnRPwkiT6K"
      },
      "source": [
        "Thus the problem statement is;\n",
        "\n",
        "_**\"How accuracte can (financial) businesses use Machine Learning for predicting customers behaviour?\"**_\n"
      ]
    },
    {
      "cell_type": "markdown",
      "metadata": {
        "id": "R-LbI6e8iT6L"
      },
      "source": [
        "To answer the problem statement, various machine learning models will be used, with the objective of predicting the classification of the subscription outcome (yes or no). Afterwards it's accuracy will be measured, and further tuning will be made."
      ]
    },
    {
      "cell_type": "markdown",
      "metadata": {
        "id": "cIO0QbNpiT6M"
      },
      "source": [
        "## 1.1 Data importing"
      ]
    },
    {
      "cell_type": "code",
      "execution_count": null,
      "metadata": {
        "id": "APibuuchiT6M"
      },
      "outputs": [],
      "source": [
        "# importing libraries \n",
        "import pandas as pd \n",
        "import matplotlib.pyplot as plt\n",
        "import seaborn as sns\n",
        "import warnings\n",
        "warnings.filterwarnings(\"ignore\")\n",
        "#preprocessing\n",
        "from sklearn.model_selection import train_test_split\n",
        "from imblearn.over_sampling import SMOTE\n",
        "from sklearn.preprocessing import StandardScaler\n",
        "#base model\n",
        "import numpy as np\n",
        "from sklearn.tree import DecisionTreeClassifier, plot_tree\n",
        "from sklearn.model_selection import cross_val_score\n",
        "from sklearn.metrics import confusion_matrix, plot_confusion_matrix, accuracy_score, f1_score, precision_score, recall_score, classification_report, confusion_matrix,r2_score, roc_auc_score\n",
        "from sklearn.model_selection import RandomizedSearchCV\n",
        "from sklearn.neighbors import KNeighborsClassifier\n",
        "from sklearn.ensemble import RandomForestClassifier, BaggingClassifier\n",
        "from sklearn import metrics\n",
        "from sklearn import model_selection\n",
        "#deeplearning\n",
        "from tensorflow.keras.models import Sequential\n",
        "from tensorflow.keras.layers import Dense\n",
        "from tensorflow.keras.layers import Dropout\n",
        "from tensorflow.keras.optimizers import Adam\n",
        "from tensorflow.keras.metrics import mean_squared_error\n",
        "from keras.wrappers.scikit_learn import KerasClassifier\n",
        "from sklearn.model_selection import GridSearchCV"
      ]
    },
    {
      "cell_type": "code",
      "source": [
        "!pip install -U -q PyDrive\n",
        "from pydrive.auth import GoogleAuth\n",
        "from pydrive.drive import GoogleDrive\n",
        "from google.colab import auth\n",
        "from oauth2client.client import GoogleCredentials"
      ],
      "metadata": {
        "id": "w2lV982sP6P5"
      },
      "execution_count": null,
      "outputs": []
    },
    {
      "cell_type": "code",
      "source": [
        "auth.authenticate_user()\n",
        "gauth = GoogleAuth()\n",
        "gauth.credentials = GoogleCredentials.get_application_default()\n",
        "drive = GoogleDrive(gauth)"
      ],
      "metadata": {
        "id": "iBmyqiLDQE9k"
      },
      "execution_count": null,
      "outputs": []
    },
    {
      "cell_type": "code",
      "source": [
        "#https://drive.google.com/file/d/1qVi6v1IwGQS4MJ4NwiR8hcpJy3PiBGtl/view?usp=sharing\n",
        "#https://drive.google.com/file/d/1jbtgfZeBkjJlO9dXJKGj1JBrFmyxyPDt/view?usp=sharing\n",
        "fileDownloaded = drive.CreateFile({'id':'1jbtgfZeBkjJlO9dXJKGj1JBrFmyxyPDt'})"
      ],
      "metadata": {
        "id": "lDYKfoXkQaGE"
      },
      "execution_count": null,
      "outputs": []
    },
    {
      "cell_type": "code",
      "source": [
        "fileDownloaded.GetContentFile('bank-additional-full.csv')"
      ],
      "metadata": {
        "id": "-W8t5pWPRDyE"
      },
      "execution_count": null,
      "outputs": []
    },
    {
      "cell_type": "code",
      "execution_count": null,
      "metadata": {
        "id": "vDcZBihtiT6N",
        "outputId": "ccd08679-5cf5-47a9-cb8f-51bb0bbc8d5a",
        "colab": {
          "base_uri": "https://localhost:8080/",
          "height": 235
        }
      },
      "outputs": [
        {
          "output_type": "execute_result",
          "data": {
            "text/plain": [
              "   age        job  marital    education  default housing loan    contact  \\\n",
              "0   56  housemaid  married     basic.4y       no      no   no  telephone   \n",
              "1   57   services  married  high.school  unknown      no   no  telephone   \n",
              "2   37   services  married  high.school       no     yes   no  telephone   \n",
              "3   40     admin.  married     basic.6y       no      no   no  telephone   \n",
              "4   56   services  married  high.school       no      no  yes  telephone   \n",
              "\n",
              "  month day_of_week  ...  campaign  pdays  previous     poutcome emp.var.rate  \\\n",
              "0   may         mon  ...         1    999         0  nonexistent          1.1   \n",
              "1   may         mon  ...         1    999         0  nonexistent          1.1   \n",
              "2   may         mon  ...         1    999         0  nonexistent          1.1   \n",
              "3   may         mon  ...         1    999         0  nonexistent          1.1   \n",
              "4   may         mon  ...         1    999         0  nonexistent          1.1   \n",
              "\n",
              "   cons.price.idx  cons.conf.idx  euribor3m  nr.employed   y  \n",
              "0          93.994          -36.4      4.857       5191.0  no  \n",
              "1          93.994          -36.4      4.857       5191.0  no  \n",
              "2          93.994          -36.4      4.857       5191.0  no  \n",
              "3          93.994          -36.4      4.857       5191.0  no  \n",
              "4          93.994          -36.4      4.857       5191.0  no  \n",
              "\n",
              "[5 rows x 21 columns]"
            ],
            "text/html": [
              "\n",
              "  <div id=\"df-b9580db8-e4f4-4b7b-a74c-a13a498c3153\">\n",
              "    <div class=\"colab-df-container\">\n",
              "      <div>\n",
              "<style scoped>\n",
              "    .dataframe tbody tr th:only-of-type {\n",
              "        vertical-align: middle;\n",
              "    }\n",
              "\n",
              "    .dataframe tbody tr th {\n",
              "        vertical-align: top;\n",
              "    }\n",
              "\n",
              "    .dataframe thead th {\n",
              "        text-align: right;\n",
              "    }\n",
              "</style>\n",
              "<table border=\"1\" class=\"dataframe\">\n",
              "  <thead>\n",
              "    <tr style=\"text-align: right;\">\n",
              "      <th></th>\n",
              "      <th>age</th>\n",
              "      <th>job</th>\n",
              "      <th>marital</th>\n",
              "      <th>education</th>\n",
              "      <th>default</th>\n",
              "      <th>housing</th>\n",
              "      <th>loan</th>\n",
              "      <th>contact</th>\n",
              "      <th>month</th>\n",
              "      <th>day_of_week</th>\n",
              "      <th>...</th>\n",
              "      <th>campaign</th>\n",
              "      <th>pdays</th>\n",
              "      <th>previous</th>\n",
              "      <th>poutcome</th>\n",
              "      <th>emp.var.rate</th>\n",
              "      <th>cons.price.idx</th>\n",
              "      <th>cons.conf.idx</th>\n",
              "      <th>euribor3m</th>\n",
              "      <th>nr.employed</th>\n",
              "      <th>y</th>\n",
              "    </tr>\n",
              "  </thead>\n",
              "  <tbody>\n",
              "    <tr>\n",
              "      <th>0</th>\n",
              "      <td>56</td>\n",
              "      <td>housemaid</td>\n",
              "      <td>married</td>\n",
              "      <td>basic.4y</td>\n",
              "      <td>no</td>\n",
              "      <td>no</td>\n",
              "      <td>no</td>\n",
              "      <td>telephone</td>\n",
              "      <td>may</td>\n",
              "      <td>mon</td>\n",
              "      <td>...</td>\n",
              "      <td>1</td>\n",
              "      <td>999</td>\n",
              "      <td>0</td>\n",
              "      <td>nonexistent</td>\n",
              "      <td>1.1</td>\n",
              "      <td>93.994</td>\n",
              "      <td>-36.4</td>\n",
              "      <td>4.857</td>\n",
              "      <td>5191.0</td>\n",
              "      <td>no</td>\n",
              "    </tr>\n",
              "    <tr>\n",
              "      <th>1</th>\n",
              "      <td>57</td>\n",
              "      <td>services</td>\n",
              "      <td>married</td>\n",
              "      <td>high.school</td>\n",
              "      <td>unknown</td>\n",
              "      <td>no</td>\n",
              "      <td>no</td>\n",
              "      <td>telephone</td>\n",
              "      <td>may</td>\n",
              "      <td>mon</td>\n",
              "      <td>...</td>\n",
              "      <td>1</td>\n",
              "      <td>999</td>\n",
              "      <td>0</td>\n",
              "      <td>nonexistent</td>\n",
              "      <td>1.1</td>\n",
              "      <td>93.994</td>\n",
              "      <td>-36.4</td>\n",
              "      <td>4.857</td>\n",
              "      <td>5191.0</td>\n",
              "      <td>no</td>\n",
              "    </tr>\n",
              "    <tr>\n",
              "      <th>2</th>\n",
              "      <td>37</td>\n",
              "      <td>services</td>\n",
              "      <td>married</td>\n",
              "      <td>high.school</td>\n",
              "      <td>no</td>\n",
              "      <td>yes</td>\n",
              "      <td>no</td>\n",
              "      <td>telephone</td>\n",
              "      <td>may</td>\n",
              "      <td>mon</td>\n",
              "      <td>...</td>\n",
              "      <td>1</td>\n",
              "      <td>999</td>\n",
              "      <td>0</td>\n",
              "      <td>nonexistent</td>\n",
              "      <td>1.1</td>\n",
              "      <td>93.994</td>\n",
              "      <td>-36.4</td>\n",
              "      <td>4.857</td>\n",
              "      <td>5191.0</td>\n",
              "      <td>no</td>\n",
              "    </tr>\n",
              "    <tr>\n",
              "      <th>3</th>\n",
              "      <td>40</td>\n",
              "      <td>admin.</td>\n",
              "      <td>married</td>\n",
              "      <td>basic.6y</td>\n",
              "      <td>no</td>\n",
              "      <td>no</td>\n",
              "      <td>no</td>\n",
              "      <td>telephone</td>\n",
              "      <td>may</td>\n",
              "      <td>mon</td>\n",
              "      <td>...</td>\n",
              "      <td>1</td>\n",
              "      <td>999</td>\n",
              "      <td>0</td>\n",
              "      <td>nonexistent</td>\n",
              "      <td>1.1</td>\n",
              "      <td>93.994</td>\n",
              "      <td>-36.4</td>\n",
              "      <td>4.857</td>\n",
              "      <td>5191.0</td>\n",
              "      <td>no</td>\n",
              "    </tr>\n",
              "    <tr>\n",
              "      <th>4</th>\n",
              "      <td>56</td>\n",
              "      <td>services</td>\n",
              "      <td>married</td>\n",
              "      <td>high.school</td>\n",
              "      <td>no</td>\n",
              "      <td>no</td>\n",
              "      <td>yes</td>\n",
              "      <td>telephone</td>\n",
              "      <td>may</td>\n",
              "      <td>mon</td>\n",
              "      <td>...</td>\n",
              "      <td>1</td>\n",
              "      <td>999</td>\n",
              "      <td>0</td>\n",
              "      <td>nonexistent</td>\n",
              "      <td>1.1</td>\n",
              "      <td>93.994</td>\n",
              "      <td>-36.4</td>\n",
              "      <td>4.857</td>\n",
              "      <td>5191.0</td>\n",
              "      <td>no</td>\n",
              "    </tr>\n",
              "  </tbody>\n",
              "</table>\n",
              "<p>5 rows × 21 columns</p>\n",
              "</div>\n",
              "      <button class=\"colab-df-convert\" onclick=\"convertToInteractive('df-b9580db8-e4f4-4b7b-a74c-a13a498c3153')\"\n",
              "              title=\"Convert this dataframe to an interactive table.\"\n",
              "              style=\"display:none;\">\n",
              "        \n",
              "  <svg xmlns=\"http://www.w3.org/2000/svg\" height=\"24px\"viewBox=\"0 0 24 24\"\n",
              "       width=\"24px\">\n",
              "    <path d=\"M0 0h24v24H0V0z\" fill=\"none\"/>\n",
              "    <path d=\"M18.56 5.44l.94 2.06.94-2.06 2.06-.94-2.06-.94-.94-2.06-.94 2.06-2.06.94zm-11 1L8.5 8.5l.94-2.06 2.06-.94-2.06-.94L8.5 2.5l-.94 2.06-2.06.94zm10 10l.94 2.06.94-2.06 2.06-.94-2.06-.94-.94-2.06-.94 2.06-2.06.94z\"/><path d=\"M17.41 7.96l-1.37-1.37c-.4-.4-.92-.59-1.43-.59-.52 0-1.04.2-1.43.59L10.3 9.45l-7.72 7.72c-.78.78-.78 2.05 0 2.83L4 21.41c.39.39.9.59 1.41.59.51 0 1.02-.2 1.41-.59l7.78-7.78 2.81-2.81c.8-.78.8-2.07 0-2.86zM5.41 20L4 18.59l7.72-7.72 1.47 1.35L5.41 20z\"/>\n",
              "  </svg>\n",
              "      </button>\n",
              "      \n",
              "  <style>\n",
              "    .colab-df-container {\n",
              "      display:flex;\n",
              "      flex-wrap:wrap;\n",
              "      gap: 12px;\n",
              "    }\n",
              "\n",
              "    .colab-df-convert {\n",
              "      background-color: #E8F0FE;\n",
              "      border: none;\n",
              "      border-radius: 50%;\n",
              "      cursor: pointer;\n",
              "      display: none;\n",
              "      fill: #1967D2;\n",
              "      height: 32px;\n",
              "      padding: 0 0 0 0;\n",
              "      width: 32px;\n",
              "    }\n",
              "\n",
              "    .colab-df-convert:hover {\n",
              "      background-color: #E2EBFA;\n",
              "      box-shadow: 0px 1px 2px rgba(60, 64, 67, 0.3), 0px 1px 3px 1px rgba(60, 64, 67, 0.15);\n",
              "      fill: #174EA6;\n",
              "    }\n",
              "\n",
              "    [theme=dark] .colab-df-convert {\n",
              "      background-color: #3B4455;\n",
              "      fill: #D2E3FC;\n",
              "    }\n",
              "\n",
              "    [theme=dark] .colab-df-convert:hover {\n",
              "      background-color: #434B5C;\n",
              "      box-shadow: 0px 1px 3px 1px rgba(0, 0, 0, 0.15);\n",
              "      filter: drop-shadow(0px 1px 2px rgba(0, 0, 0, 0.3));\n",
              "      fill: #FFFFFF;\n",
              "    }\n",
              "  </style>\n",
              "\n",
              "      <script>\n",
              "        const buttonEl =\n",
              "          document.querySelector('#df-b9580db8-e4f4-4b7b-a74c-a13a498c3153 button.colab-df-convert');\n",
              "        buttonEl.style.display =\n",
              "          google.colab.kernel.accessAllowed ? 'block' : 'none';\n",
              "\n",
              "        async function convertToInteractive(key) {\n",
              "          const element = document.querySelector('#df-b9580db8-e4f4-4b7b-a74c-a13a498c3153');\n",
              "          const dataTable =\n",
              "            await google.colab.kernel.invokeFunction('convertToInteractive',\n",
              "                                                     [key], {});\n",
              "          if (!dataTable) return;\n",
              "\n",
              "          const docLinkHtml = 'Like what you see? Visit the ' +\n",
              "            '<a target=\"_blank\" href=https://colab.research.google.com/notebooks/data_table.ipynb>data table notebook</a>'\n",
              "            + ' to learn more about interactive tables.';\n",
              "          element.innerHTML = '';\n",
              "          dataTable['output_type'] = 'display_data';\n",
              "          await google.colab.output.renderOutput(dataTable, element);\n",
              "          const docLink = document.createElement('div');\n",
              "          docLink.innerHTML = docLinkHtml;\n",
              "          element.appendChild(docLink);\n",
              "        }\n",
              "      </script>\n",
              "    </div>\n",
              "  </div>\n",
              "  "
            ]
          },
          "metadata": {},
          "execution_count": 16
        }
      ],
      "source": [
        "# reading in file \n",
        "df = pd.read_csv('bank-additional-full.csv', sep = ';')\n",
        "df.head()"
      ]
    },
    {
      "cell_type": "markdown",
      "metadata": {
        "id": "3FnBWtN1iT6N"
      },
      "source": [
        "# 2. EDA and data preparation"
      ]
    },
    {
      "cell_type": "markdown",
      "metadata": {
        "id": "7v7Vuh95iT6N"
      },
      "source": [
        "Both the data exploration and data prepreration part of this notebook will be arranged in four parts according to the four categories of the dataset that was first described in the introduction, including; _bank client data, contact data, social economic data & other attributes._ "
      ]
    },
    {
      "cell_type": "markdown",
      "metadata": {
        "id": "0xhjHC1EiT6O"
      },
      "source": [
        "## 2.1 Client Data"
      ]
    },
    {
      "cell_type": "code",
      "execution_count": null,
      "metadata": {
        "id": "EmhfPSg4iT6O",
        "outputId": "b3a8a2b3-926d-442e-8e19-9769c01415df",
        "colab": {
          "base_uri": "https://localhost:8080/",
          "height": 424
        }
      },
      "outputs": [
        {
          "output_type": "execute_result",
          "data": {
            "text/plain": [
              "       age          job  marital            education  default housing loan\n",
              "0       56    housemaid  married             basic.4y       no      no   no\n",
              "1       57     services  married          high.school  unknown      no   no\n",
              "2       37     services  married          high.school       no     yes   no\n",
              "3       40       admin.  married             basic.6y       no      no   no\n",
              "4       56     services  married          high.school       no      no  yes\n",
              "...    ...          ...      ...                  ...      ...     ...  ...\n",
              "41183   73      retired  married  professional.course       no     yes   no\n",
              "41184   46  blue-collar  married  professional.course       no      no   no\n",
              "41185   56      retired  married    university.degree       no     yes   no\n",
              "41186   44   technician  married  professional.course       no      no   no\n",
              "41187   74      retired  married  professional.course       no     yes   no\n",
              "\n",
              "[41188 rows x 7 columns]"
            ],
            "text/html": [
              "\n",
              "  <div id=\"df-49accdee-ef73-40a0-82ba-e11396c20f2a\">\n",
              "    <div class=\"colab-df-container\">\n",
              "      <div>\n",
              "<style scoped>\n",
              "    .dataframe tbody tr th:only-of-type {\n",
              "        vertical-align: middle;\n",
              "    }\n",
              "\n",
              "    .dataframe tbody tr th {\n",
              "        vertical-align: top;\n",
              "    }\n",
              "\n",
              "    .dataframe thead th {\n",
              "        text-align: right;\n",
              "    }\n",
              "</style>\n",
              "<table border=\"1\" class=\"dataframe\">\n",
              "  <thead>\n",
              "    <tr style=\"text-align: right;\">\n",
              "      <th></th>\n",
              "      <th>age</th>\n",
              "      <th>job</th>\n",
              "      <th>marital</th>\n",
              "      <th>education</th>\n",
              "      <th>default</th>\n",
              "      <th>housing</th>\n",
              "      <th>loan</th>\n",
              "    </tr>\n",
              "  </thead>\n",
              "  <tbody>\n",
              "    <tr>\n",
              "      <th>0</th>\n",
              "      <td>56</td>\n",
              "      <td>housemaid</td>\n",
              "      <td>married</td>\n",
              "      <td>basic.4y</td>\n",
              "      <td>no</td>\n",
              "      <td>no</td>\n",
              "      <td>no</td>\n",
              "    </tr>\n",
              "    <tr>\n",
              "      <th>1</th>\n",
              "      <td>57</td>\n",
              "      <td>services</td>\n",
              "      <td>married</td>\n",
              "      <td>high.school</td>\n",
              "      <td>unknown</td>\n",
              "      <td>no</td>\n",
              "      <td>no</td>\n",
              "    </tr>\n",
              "    <tr>\n",
              "      <th>2</th>\n",
              "      <td>37</td>\n",
              "      <td>services</td>\n",
              "      <td>married</td>\n",
              "      <td>high.school</td>\n",
              "      <td>no</td>\n",
              "      <td>yes</td>\n",
              "      <td>no</td>\n",
              "    </tr>\n",
              "    <tr>\n",
              "      <th>3</th>\n",
              "      <td>40</td>\n",
              "      <td>admin.</td>\n",
              "      <td>married</td>\n",
              "      <td>basic.6y</td>\n",
              "      <td>no</td>\n",
              "      <td>no</td>\n",
              "      <td>no</td>\n",
              "    </tr>\n",
              "    <tr>\n",
              "      <th>4</th>\n",
              "      <td>56</td>\n",
              "      <td>services</td>\n",
              "      <td>married</td>\n",
              "      <td>high.school</td>\n",
              "      <td>no</td>\n",
              "      <td>no</td>\n",
              "      <td>yes</td>\n",
              "    </tr>\n",
              "    <tr>\n",
              "      <th>...</th>\n",
              "      <td>...</td>\n",
              "      <td>...</td>\n",
              "      <td>...</td>\n",
              "      <td>...</td>\n",
              "      <td>...</td>\n",
              "      <td>...</td>\n",
              "      <td>...</td>\n",
              "    </tr>\n",
              "    <tr>\n",
              "      <th>41183</th>\n",
              "      <td>73</td>\n",
              "      <td>retired</td>\n",
              "      <td>married</td>\n",
              "      <td>professional.course</td>\n",
              "      <td>no</td>\n",
              "      <td>yes</td>\n",
              "      <td>no</td>\n",
              "    </tr>\n",
              "    <tr>\n",
              "      <th>41184</th>\n",
              "      <td>46</td>\n",
              "      <td>blue-collar</td>\n",
              "      <td>married</td>\n",
              "      <td>professional.course</td>\n",
              "      <td>no</td>\n",
              "      <td>no</td>\n",
              "      <td>no</td>\n",
              "    </tr>\n",
              "    <tr>\n",
              "      <th>41185</th>\n",
              "      <td>56</td>\n",
              "      <td>retired</td>\n",
              "      <td>married</td>\n",
              "      <td>university.degree</td>\n",
              "      <td>no</td>\n",
              "      <td>yes</td>\n",
              "      <td>no</td>\n",
              "    </tr>\n",
              "    <tr>\n",
              "      <th>41186</th>\n",
              "      <td>44</td>\n",
              "      <td>technician</td>\n",
              "      <td>married</td>\n",
              "      <td>professional.course</td>\n",
              "      <td>no</td>\n",
              "      <td>no</td>\n",
              "      <td>no</td>\n",
              "    </tr>\n",
              "    <tr>\n",
              "      <th>41187</th>\n",
              "      <td>74</td>\n",
              "      <td>retired</td>\n",
              "      <td>married</td>\n",
              "      <td>professional.course</td>\n",
              "      <td>no</td>\n",
              "      <td>yes</td>\n",
              "      <td>no</td>\n",
              "    </tr>\n",
              "  </tbody>\n",
              "</table>\n",
              "<p>41188 rows × 7 columns</p>\n",
              "</div>\n",
              "      <button class=\"colab-df-convert\" onclick=\"convertToInteractive('df-49accdee-ef73-40a0-82ba-e11396c20f2a')\"\n",
              "              title=\"Convert this dataframe to an interactive table.\"\n",
              "              style=\"display:none;\">\n",
              "        \n",
              "  <svg xmlns=\"http://www.w3.org/2000/svg\" height=\"24px\"viewBox=\"0 0 24 24\"\n",
              "       width=\"24px\">\n",
              "    <path d=\"M0 0h24v24H0V0z\" fill=\"none\"/>\n",
              "    <path d=\"M18.56 5.44l.94 2.06.94-2.06 2.06-.94-2.06-.94-.94-2.06-.94 2.06-2.06.94zm-11 1L8.5 8.5l.94-2.06 2.06-.94-2.06-.94L8.5 2.5l-.94 2.06-2.06.94zm10 10l.94 2.06.94-2.06 2.06-.94-2.06-.94-.94-2.06-.94 2.06-2.06.94z\"/><path d=\"M17.41 7.96l-1.37-1.37c-.4-.4-.92-.59-1.43-.59-.52 0-1.04.2-1.43.59L10.3 9.45l-7.72 7.72c-.78.78-.78 2.05 0 2.83L4 21.41c.39.39.9.59 1.41.59.51 0 1.02-.2 1.41-.59l7.78-7.78 2.81-2.81c.8-.78.8-2.07 0-2.86zM5.41 20L4 18.59l7.72-7.72 1.47 1.35L5.41 20z\"/>\n",
              "  </svg>\n",
              "      </button>\n",
              "      \n",
              "  <style>\n",
              "    .colab-df-container {\n",
              "      display:flex;\n",
              "      flex-wrap:wrap;\n",
              "      gap: 12px;\n",
              "    }\n",
              "\n",
              "    .colab-df-convert {\n",
              "      background-color: #E8F0FE;\n",
              "      border: none;\n",
              "      border-radius: 50%;\n",
              "      cursor: pointer;\n",
              "      display: none;\n",
              "      fill: #1967D2;\n",
              "      height: 32px;\n",
              "      padding: 0 0 0 0;\n",
              "      width: 32px;\n",
              "    }\n",
              "\n",
              "    .colab-df-convert:hover {\n",
              "      background-color: #E2EBFA;\n",
              "      box-shadow: 0px 1px 2px rgba(60, 64, 67, 0.3), 0px 1px 3px 1px rgba(60, 64, 67, 0.15);\n",
              "      fill: #174EA6;\n",
              "    }\n",
              "\n",
              "    [theme=dark] .colab-df-convert {\n",
              "      background-color: #3B4455;\n",
              "      fill: #D2E3FC;\n",
              "    }\n",
              "\n",
              "    [theme=dark] .colab-df-convert:hover {\n",
              "      background-color: #434B5C;\n",
              "      box-shadow: 0px 1px 3px 1px rgba(0, 0, 0, 0.15);\n",
              "      filter: drop-shadow(0px 1px 2px rgba(0, 0, 0, 0.3));\n",
              "      fill: #FFFFFF;\n",
              "    }\n",
              "  </style>\n",
              "\n",
              "      <script>\n",
              "        const buttonEl =\n",
              "          document.querySelector('#df-49accdee-ef73-40a0-82ba-e11396c20f2a button.colab-df-convert');\n",
              "        buttonEl.style.display =\n",
              "          google.colab.kernel.accessAllowed ? 'block' : 'none';\n",
              "\n",
              "        async function convertToInteractive(key) {\n",
              "          const element = document.querySelector('#df-49accdee-ef73-40a0-82ba-e11396c20f2a');\n",
              "          const dataTable =\n",
              "            await google.colab.kernel.invokeFunction('convertToInteractive',\n",
              "                                                     [key], {});\n",
              "          if (!dataTable) return;\n",
              "\n",
              "          const docLinkHtml = 'Like what you see? Visit the ' +\n",
              "            '<a target=\"_blank\" href=https://colab.research.google.com/notebooks/data_table.ipynb>data table notebook</a>'\n",
              "            + ' to learn more about interactive tables.';\n",
              "          element.innerHTML = '';\n",
              "          dataTable['output_type'] = 'display_data';\n",
              "          await google.colab.output.renderOutput(dataTable, element);\n",
              "          const docLink = document.createElement('div');\n",
              "          docLink.innerHTML = docLinkHtml;\n",
              "          element.appendChild(docLink);\n",
              "        }\n",
              "      </script>\n",
              "    </div>\n",
              "  </div>\n",
              "  "
            ]
          },
          "metadata": {},
          "execution_count": 17
        }
      ],
      "source": [
        "# creating client dataframe\n",
        "clientData = df.iloc[:,0:7]\n",
        "clientData"
      ]
    },
    {
      "cell_type": "code",
      "execution_count": null,
      "metadata": {
        "id": "F4MHR4qMiT6P"
      },
      "outputs": [],
      "source": [
        "# creating values counts for each of the columns to see the distribution of these\n",
        "jobDist = clientData['job'].value_counts()\n",
        "ageDist = clientData['age'].value_counts()\n",
        "maritalDist = clientData['marital'].value_counts()\n",
        "educationDist = clientData['education'].value_counts()\n",
        "defaultDist = clientData['default'].value_counts()\n",
        "housingDist = clientData['housing'].value_counts()\n",
        "loanDist = clientData['loan'].value_counts()"
      ]
    },
    {
      "cell_type": "code",
      "execution_count": null,
      "metadata": {
        "id": "MvBW5UkWiT6P",
        "outputId": "60913dd8-1d2b-40c5-cbbb-499c4f9703d6",
        "colab": {
          "base_uri": "https://localhost:8080/",
          "height": 520
        }
      },
      "outputs": [
        {
          "output_type": "display_data",
          "data": {
            "text/plain": [
              "<Figure size 1440x576 with 1 Axes>"
            ],
            "image/png": "[encoded data removed]"
          },
          "metadata": {
            "needs_background": "light"
          }
        }
      ],
      "source": [
        "# plotting the age distribution \n",
        "fig, ax = plt.subplots()\n",
        "fig.set_size_inches(20, 8)\n",
        "sns.countplot(x = 'age', data = clientData)\n",
        "ax.set_xlabel('Age', fontsize=15)\n",
        "ax.set_ylabel('Count', fontsize=15)\n",
        "ax.set_title('Age Count Distribution', fontsize=15)\n",
        "sns.despine()"
      ]
    },
    {
      "cell_type": "code",
      "execution_count": null,
      "metadata": {
        "id": "mVQLu6n7iT6Q",
        "outputId": "ed6f4ba4-46c9-4fd0-894f-bbf0a6ed721c",
        "colab": {
          "base_uri": "https://localhost:8080/",
          "height": 520
        }
      },
      "outputs": [
        {
          "output_type": "display_data",
          "data": {
            "text/plain": [
              "<Figure size 1440x576 with 1 Axes>"
            ],
            "image/png": "[encoded data removed]"
          },
          "metadata": {
            "needs_background": "light"
          }
        }
      ],
      "source": [
        "# plotting the job distribution \n",
        "fig, ax = plt.subplots()\n",
        "fig.set_size_inches(20, 8)\n",
        "sns.countplot(x = 'job', data = clientData)\n",
        "ax.set_xlabel('Job', fontsize=15)\n",
        "ax.set_ylabel('Count', fontsize=15)\n",
        "ax.set_title('Job Count Distribution', fontsize=15)\n",
        "sns.despine()"
      ]
    },
    {
      "cell_type": "code",
      "execution_count": null,
      "metadata": {
        "id": "y2Ij893siT6Q",
        "outputId": "8992971d-7b05-42b8-9bde-7301e1d92e10",
        "colab": {
          "base_uri": "https://localhost:8080/",
          "height": 520
        }
      },
      "outputs": [
        {
          "output_type": "display_data",
          "data": {
            "text/plain": [
              "<Figure size 1440x576 with 1 Axes>"
            ],
            "image/png": "[encoded data removed]"
          },
          "metadata": {
            "needs_background": "light"
          }
        }
      ],
      "source": [
        "# plotting the marital distribution \n",
        "fig, ax = plt.subplots()\n",
        "fig.set_size_inches(20, 8)\n",
        "sns.countplot(x = 'marital', data = clientData)\n",
        "ax.set_xlabel('Marital', fontsize=15)\n",
        "ax.set_ylabel('Count', fontsize=15)\n",
        "ax.set_title('Marital Count Distribution', fontsize=15)\n",
        "sns.despine()"
      ]
    },
    {
      "cell_type": "code",
      "execution_count": null,
      "metadata": {
        "id": "2R6lfkKciT6R",
        "outputId": "b773d77b-8fc1-4461-fb69-242290ce5fce",
        "colab": {
          "base_uri": "https://localhost:8080/",
          "height": 520
        }
      },
      "outputs": [
        {
          "output_type": "display_data",
          "data": {
            "text/plain": [
              "<Figure size 1440x576 with 1 Axes>"
            ],
            "image/png": "[encoded data removed]"
          },
          "metadata": {
            "needs_background": "light"
          }
        }
      ],
      "source": [
        "# plotting the education distribution \n",
        "fig, ax = plt.subplots()\n",
        "fig.set_size_inches(20, 8)\n",
        "sns.countplot(x = 'education', data = clientData)\n",
        "ax.set_xlabel('Education', fontsize=15)\n",
        "ax.set_ylabel('Count', fontsize=15)\n",
        "ax.set_title('Education Count Distribution', fontsize=15)\n",
        "sns.despine()"
      ]
    },
    {
      "cell_type": "code",
      "execution_count": null,
      "metadata": {
        "id": "BzXDGFE9iT6R",
        "outputId": "85dc7881-abb6-4170-8060-007c023209e0",
        "colab": {
          "base_uri": "https://localhost:8080/",
          "height": 506
        }
      },
      "outputs": [
        {
          "output_type": "display_data",
          "data": {
            "text/plain": [
              "<Figure size 1440x576 with 3 Axes>"
            ],
            "image/png": "[encoded data removed]"
          },
          "metadata": {
            "needs_background": "light"
          }
        }
      ],
      "source": [
        "# plotting the three columns regarding default, housing and personal loan \n",
        "fig, (ax1, ax2, ax3) = plt.subplots(nrows = 1, ncols = 3, figsize = (20,8))\n",
        "sns.countplot(x = 'default', data = clientData, ax = ax1, order = ['no', 'unknown', 'yes'])\n",
        "ax1.set_title('Default', fontsize=15)\n",
        "ax1.set_xlabel('')\n",
        "ax1.set_ylabel('Count', fontsize=15)\n",
        "ax1.tick_params(labelsize=15)\n",
        "\n",
        "sns.countplot(x = 'housing', data = clientData, ax = ax2, order = ['no', 'unknown', 'yes'])\n",
        "ax2.set_title('Housing', fontsize=15)\n",
        "ax2.set_xlabel('')\n",
        "ax2.set_ylabel('Count', fontsize=15)\n",
        "ax2.tick_params(labelsize=15)\n",
        "\n",
        "sns.countplot(x = 'loan', data = clientData, ax = ax3, order = ['no', 'unknown', 'yes'])\n",
        "ax3.set_title('Loan', fontsize=15)\n",
        "ax3.set_xlabel('')\n",
        "ax3.set_ylabel('Count', fontsize=15)\n",
        "ax3.tick_params(labelsize=15)\n",
        "\n",
        "plt.subplots_adjust(wspace=0.25)"
      ]
    },
    {
      "cell_type": "code",
      "execution_count": null,
      "metadata": {
        "id": "ZUwh17_-iT6R",
        "outputId": "785f5d2d-a9ec-4781-973b-c6598cb6c305",
        "colab": {
          "base_uri": "https://localhost:8080/"
        }
      },
      "outputs": [
        {
          "output_type": "execute_result",
          "data": {
            "text/plain": [
              "age          3\n",
              "job          3\n",
              "marital      3\n",
              "education    3\n",
              "default      3\n",
              "housing      3\n",
              "loan         3\n",
              "dtype: int64"
            ]
          },
          "metadata": {},
          "execution_count": 24
        }
      ],
      "source": [
        "# the plot of the default column seems weird, so we'll check that 'yes' values exists\n",
        "clientData[clientData['default'] == 'yes'].count()"
      ]
    },
    {
      "cell_type": "markdown",
      "metadata": {
        "id": "zM8SNnzJiT6R"
      },
      "source": [
        "Concluding the client data, it can be seen that the distribution of ages is between 17-98 years, which seems legit, and therefore it is chosen to not consider any of the high numbers with less frequency as outliers.\n",
        "Further it can be seen that many of the clients jobs are related to administration, blue-collars or techincians, and also interesting is that the bank has a high number of clients with an university degree as well as clients with only a high school degree. \n",
        "The last three plots are showing the distribution of different loans for each client. The plot regarding the default indicates none or only a few clients with credits in default, which indeed is correct, as there are only 3 clients in that group.\n",
        "\n",
        "Each of these columns - except the age column - has to be converted from categorical values to numerical values in order to use them for the machine learning algorithms later. For this the pandas.get_dummies will be used. The reason for using this approach is because it is considered relevant to not just convert each column value into its own unique value, because it results in a relation/comparison between the numerical values, which is not present in the these columns. The age column will be processed so that it will only contain 4 values instead of those 78 values. These are getting converted according to the quantiles. \n",
        "\n"
      ]
    },
    {
      "cell_type": "code",
      "execution_count": null,
      "metadata": {
        "id": "vgiJHPqWiT6R"
      },
      "outputs": [],
      "source": [
        "# using the pd.get_dummies to create columns for each values in the columns \n",
        "clientData = pd.get_dummies(data = clientData, drop_first=True, columns = ['job'] , prefix = ['job'])\n",
        "clientData = pd.get_dummies(data = clientData, drop_first=True, columns = ['marital'] , prefix = ['marital'])\n",
        "clientData = pd.get_dummies(data = clientData, drop_first=True, columns = ['education'], prefix = ['education'])\n",
        "clientData = pd.get_dummies(data = clientData, drop_first=True, columns = ['default'] , prefix = ['default'])\n",
        "clientData = pd.get_dummies(data = clientData, drop_first=True, columns = ['housing'] , prefix = ['housing'])\n",
        "clientData = pd.get_dummies(data = clientData, drop_first=True, columns = ['loan'] , prefix = ['loan'])"
      ]
    },
    {
      "cell_type": "code",
      "execution_count": null,
      "metadata": {
        "id": "jODpb_kziT6R",
        "outputId": "f458f0b2-0228-424f-b280-fa929068e73e",
        "colab": {
          "base_uri": "https://localhost:8080/"
        }
      },
      "outputs": [
        {
          "output_type": "stream",
          "name": "stdout",
          "text": [
            "32.0\n",
            "38.0\n",
            "47.0\n",
            "98.0\n"
          ]
        }
      ],
      "source": [
        "# finding the age for each cutoff in the categories\n",
        "print(clientData['age'].quantile(q = 0.25))\n",
        "print(clientData['age'].quantile(q = 0.50))\n",
        "print(clientData['age'].quantile(q = 0.75))\n",
        "print(clientData['age'].quantile(q = 1.00))"
      ]
    },
    {
      "cell_type": "code",
      "execution_count": null,
      "metadata": {
        "id": "SqdedlLyiT6R"
      },
      "outputs": [],
      "source": [
        "# defining 4 categories for the age column and changing the dataframe according to this\n",
        "def age(dataframe):\n",
        "    dataframe.loc[dataframe['age'] <= 32, 'age'] = 1\n",
        "    dataframe.loc[(dataframe['age'] > 32) & (dataframe['age'] <= 47), 'age'] = 2\n",
        "    dataframe.loc[(dataframe['age'] > 47) & (dataframe['age'] <= 70), 'age'] = 3\n",
        "    dataframe.loc[(dataframe['age'] > 70) & (dataframe['age'] <= 98), 'age'] = 4\n",
        "           \n",
        "    return dataframe"
      ]
    },
    {
      "cell_type": "markdown",
      "metadata": {
        "id": "-Z2ttD-giT6S"
      },
      "source": [
        "## 2.2 Contact Data"
      ]
    },
    {
      "cell_type": "code",
      "execution_count": null,
      "metadata": {
        "id": "9zBGaXJWiT6S",
        "outputId": "ef329796-408a-4925-8540-58250703f760",
        "colab": {
          "base_uri": "https://localhost:8080/",
          "height": 270
        }
      },
      "outputs": [
        {
          "output_type": "execute_result",
          "data": {
            "text/plain": [
              "     contact month day_of_week  duration\n",
              "0  telephone   may         mon       261\n",
              "1  telephone   may         mon       149\n",
              "2  telephone   may         mon       226\n",
              "3  telephone   may         mon       151\n",
              "4  telephone   may         mon       307"
            ],
            "text/html": [
              "\n",
              "  <div id=\"df-0c8c504b-0988-472a-b857-9265e294c1bf\">\n",
              "    <div class=\"colab-df-container\">\n",
              "      <div>\n",
              "<style scoped>\n",
              "    .dataframe tbody tr th:only-of-type {\n",
              "        vertical-align: middle;\n",
              "    }\n",
              "\n",
              "    .dataframe tbody tr th {\n",
              "        vertical-align: top;\n",
              "    }\n",
              "\n",
              "    .dataframe thead th {\n",
              "        text-align: right;\n",
              "    }\n",
              "</style>\n",
              "<table border=\"1\" class=\"dataframe\">\n",
              "  <thead>\n",
              "    <tr style=\"text-align: right;\">\n",
              "      <th></th>\n",
              "      <th>contact</th>\n",
              "      <th>month</th>\n",
              "      <th>day_of_week</th>\n",
              "      <th>duration</th>\n",
              "    </tr>\n",
              "  </thead>\n",
              "  <tbody>\n",
              "    <tr>\n",
              "      <th>0</th>\n",
              "      <td>telephone</td>\n",
              "      <td>may</td>\n",
              "      <td>mon</td>\n",
              "      <td>261</td>\n",
              "    </tr>\n",
              "    <tr>\n",
              "      <th>1</th>\n",
              "      <td>telephone</td>\n",
              "      <td>may</td>\n",
              "      <td>mon</td>\n",
              "      <td>149</td>\n",
              "    </tr>\n",
              "    <tr>\n",
              "      <th>2</th>\n",
              "      <td>telephone</td>\n",
              "      <td>may</td>\n",
              "      <td>mon</td>\n",
              "      <td>226</td>\n",
              "    </tr>\n",
              "    <tr>\n",
              "      <th>3</th>\n",
              "      <td>telephone</td>\n",
              "      <td>may</td>\n",
              "      <td>mon</td>\n",
              "      <td>151</td>\n",
              "    </tr>\n",
              "    <tr>\n",
              "      <th>4</th>\n",
              "      <td>telephone</td>\n",
              "      <td>may</td>\n",
              "      <td>mon</td>\n",
              "      <td>307</td>\n",
              "    </tr>\n",
              "  </tbody>\n",
              "</table>\n",
              "</div>\n",
              "      <button class=\"colab-df-convert\" onclick=\"convertToInteractive('df-0c8c504b-0988-472a-b857-9265e294c1bf')\"\n",
              "              title=\"Convert this dataframe to an interactive table.\"\n",
              "              style=\"display:none;\">\n",
              "        \n",
              "  <svg xmlns=\"http://www.w3.org/2000/svg\" height=\"24px\"viewBox=\"0 0 24 24\"\n",
              "       width=\"24px\">\n",
              "    <path d=\"M0 0h24v24H0V0z\" fill=\"none\"/>\n",
              "    <path d=\"M18.56 5.44l.94 2.06.94-2.06 2.06-.94-2.06-.94-.94-2.06-.94 2.06-2.06.94zm-11 1L8.5 8.5l.94-2.06 2.06-.94-2.06-.94L8.5 2.5l-.94 2.06-2.06.94zm10 10l.94 2.06.94-2.06 2.06-.94-2.06-.94-.94-2.06-.94 2.06-2.06.94z\"/><path d=\"M17.41 7.96l-1.37-1.37c-.4-.4-.92-.59-1.43-.59-.52 0-1.04.2-1.43.59L10.3 9.45l-7.72 7.72c-.78.78-.78 2.05 0 2.83L4 21.41c.39.39.9.59 1.41.59.51 0 1.02-.2 1.41-.59l7.78-7.78 2.81-2.81c.8-.78.8-2.07 0-2.86zM5.41 20L4 18.59l7.72-7.72 1.47 1.35L5.41 20z\"/>\n",
              "  </svg>\n",
              "      </button>\n",
              "      \n",
              "  <style>\n",
              "    .colab-df-container {\n",
              "      display:flex;\n",
              "      flex-wrap:wrap;\n",
              "      gap: 12px;\n",
              "    }\n",
              "\n",
              "    .colab-df-convert {\n",
              "      background-color: #E8F0FE;\n",
              "      border: none;\n",
              "      border-radius: 50%;\n",
              "      cursor: pointer;\n",
              "      display: none;\n",
              "      fill: #1967D2;\n",
              "      height: 32px;\n",
              "      padding: 0 0 0 0;\n",
              "      width: 32px;\n",
              "    }\n",
              "\n",
              "    .colab-df-convert:hover {\n",
              "      background-color: #E2EBFA;\n",
              "      box-shadow: 0px 1px 2px rgba(60, 64, 67, 0.3), 0px 1px 3px 1px rgba(60, 64, 67, 0.15);\n",
              "      fill: #174EA6;\n",
              "    }\n",
              "\n",
              "    [theme=dark] .colab-df-convert {\n",
              "      background-color: #3B4455;\n",
              "      fill: #D2E3FC;\n",
              "    }\n",
              "\n",
              "    [theme=dark] .colab-df-convert:hover {\n",
              "      background-color: #434B5C;\n",
              "      box-shadow: 0px 1px 3px 1px rgba(0, 0, 0, 0.15);\n",
              "      filter: drop-shadow(0px 1px 2px rgba(0, 0, 0, 0.3));\n",
              "      fill: #FFFFFF;\n",
              "    }\n",
              "  </style>\n",
              "\n",
              "      <script>\n",
              "        const buttonEl =\n",
              "          document.querySelector('#df-0c8c504b-0988-472a-b857-9265e294c1bf button.colab-df-convert');\n",
              "        buttonEl.style.display =\n",
              "          google.colab.kernel.accessAllowed ? 'block' : 'none';\n",
              "\n",
              "        async function convertToInteractive(key) {\n",
              "          const element = document.querySelector('#df-0c8c504b-0988-472a-b857-9265e294c1bf');\n",
              "          const dataTable =\n",
              "            await google.colab.kernel.invokeFunction('convertToInteractive',\n",
              "                                                     [key], {});\n",
              "          if (!dataTable) return;\n",
              "\n",
              "          const docLinkHtml = 'Like what you see? Visit the ' +\n",
              "            '<a target=\"_blank\" href=https://colab.research.google.com/notebooks/data_table.ipynb>data table notebook</a>'\n",
              "            + ' to learn more about interactive tables.';\n",
              "          element.innerHTML = '';\n",
              "          dataTable['output_type'] = 'display_data';\n",
              "          await google.colab.output.renderOutput(dataTable, element);\n",
              "          const docLink = document.createElement('div');\n",
              "          docLink.innerHTML = docLinkHtml;\n",
              "          element.appendChild(docLink);\n",
              "        }\n",
              "      </script>\n",
              "    </div>\n",
              "  </div>\n",
              "  "
            ]
          },
          "metadata": {},
          "execution_count": 28
        }
      ],
      "source": [
        "# creating dataframe for data regarding the last contact \n",
        "contactData = df.iloc[:,7:11]\n",
        "contactData.head()"
      ]
    },
    {
      "cell_type": "code",
      "execution_count": null,
      "metadata": {
        "id": "mL4vES7-iT6S"
      },
      "outputs": [],
      "source": [
        "# dropping the duration column \n",
        "contactData.drop('duration', axis = 1, inplace = True)"
      ]
    },
    {
      "cell_type": "code",
      "execution_count": null,
      "metadata": {
        "id": "ApFpROnkiT6S",
        "outputId": "85b0a7b5-e9c6-4a48-e99f-df44361a769c",
        "colab": {
          "base_uri": "https://localhost:8080/",
          "height": 54
        }
      },
      "outputs": [
        {
          "output_type": "display_data",
          "data": {
            "text/plain": [
              "<Figure size 1440x576 with 3 Axes>"
            ],
            "image/png": "[encoded data removed]"
          },
          "metadata": {
            "needs_background": "light"
          }
        }
      ],
      "source": [
        "# plotting the three columns regarding contact mode, month and day of week \n",
        "fig, (ax1, ax2, ax3) = plt.subplots(nrows = 1, ncols = 3, figsize = (20,8))\n",
        "sns.countplot(x = 'contact', data = contactData, ax = ax1)\n",
        "ax1.set_title('Contact Mode', fontsize=15)\n",
        "ax1.set_xlabel('')\n",
        "ax1.set_ylabel('Count', fontsize=15)\n",
        "ax1.tick_params(labelsize=15)\n",
        "\n",
        "sns.countplot(x = 'month', data = contactData, ax = ax2)\n",
        "ax2.set_title('Month', fontsize=15)\n",
        "ax2.set_xlabel('')\n",
        "ax2.set_ylabel('Count', fontsize=15)\n",
        "ax2.tick_params(labelsize=15)\n",
        "\n",
        "sns.countplot(x = 'day_of_week', data = contactData, ax = ax3)\n",
        "ax3.set_title('Day of week', fontsize=15)\n",
        "ax3.set_xlabel('')\n",
        "ax3.set_ylabel('Count', fontsize=15)\n",
        "ax3.tick_params(labelsize=15)\n",
        "\n",
        "plt.subplots_adjust(wspace=0.25)"
      ]
    },
    {
      "cell_type": "markdown",
      "metadata": {
        "id": "BQ-Sb5ksiT6T"
      },
      "source": [
        "First off the duration column is dropped because it is told in the description of the dataset that this variable highly affects the output, but it is important to note that this variable is not known before the call is made. Because of this the variable will be removed from the dataset so that a more realistic predictive model can be optained. \n",
        "The other three columns distributions are showed in the plots afterwards. Nothing unusual to see here, so this will again be converted using the pd.get_dummies. "
      ]
    },
    {
      "cell_type": "code",
      "execution_count": null,
      "metadata": {
        "id": "LQenW8SViT6T"
      },
      "outputs": [],
      "source": [
        "# using the pd.get_dummies to create columns for each values in the columns \n",
        "contactData = pd.get_dummies(data = contactData, columns = ['contact'] , prefix = ['contact'], drop_first=True)\n",
        "contactData = pd.get_dummies(data = contactData, columns = ['month'] , prefix = ['month'], drop_first=True)\n",
        "contactData = pd.get_dummies(data = contactData, columns = ['day_of_week'], prefix = ['day_of_week'], drop_first=True)"
      ]
    },
    {
      "cell_type": "markdown",
      "metadata": {
        "id": "nYy8_XnfiT6T"
      },
      "source": [
        "## 2.3 Economic and Social Data"
      ]
    },
    {
      "cell_type": "code",
      "execution_count": null,
      "metadata": {
        "id": "z5mYP_csiT6T",
        "outputId": "15280267-e00d-4808-8c59-d47393e31950",
        "colab": {
          "base_uri": "https://localhost:8080/",
          "height": 270
        }
      },
      "outputs": [
        {
          "output_type": "execute_result",
          "data": {
            "text/plain": [
              "   emp.var.rate  cons.price.idx  cons.conf.idx  euribor3m  nr.employed\n",
              "0           1.1          93.994          -36.4      4.857       5191.0\n",
              "1           1.1          93.994          -36.4      4.857       5191.0\n",
              "2           1.1          93.994          -36.4      4.857       5191.0\n",
              "3           1.1          93.994          -36.4      4.857       5191.0\n",
              "4           1.1          93.994          -36.4      4.857       5191.0"
            ],
            "text/html": [
              "\n",
              "  <div id=\"df-a30a663c-960c-4678-9c4f-719d5722b2fe\">\n",
              "    <div class=\"colab-df-container\">\n",
              "      <div>\n",
              "<style scoped>\n",
              "    .dataframe tbody tr th:only-of-type {\n",
              "        vertical-align: middle;\n",
              "    }\n",
              "\n",
              "    .dataframe tbody tr th {\n",
              "        vertical-align: top;\n",
              "    }\n",
              "\n",
              "    .dataframe thead th {\n",
              "        text-align: right;\n",
              "    }\n",
              "</style>\n",
              "<table border=\"1\" class=\"dataframe\">\n",
              "  <thead>\n",
              "    <tr style=\"text-align: right;\">\n",
              "      <th></th>\n",
              "      <th>emp.var.rate</th>\n",
              "      <th>cons.price.idx</th>\n",
              "      <th>cons.conf.idx</th>\n",
              "      <th>euribor3m</th>\n",
              "      <th>nr.employed</th>\n",
              "    </tr>\n",
              "  </thead>\n",
              "  <tbody>\n",
              "    <tr>\n",
              "      <th>0</th>\n",
              "      <td>1.1</td>\n",
              "      <td>93.994</td>\n",
              "      <td>-36.4</td>\n",
              "      <td>4.857</td>\n",
              "      <td>5191.0</td>\n",
              "    </tr>\n",
              "    <tr>\n",
              "      <th>1</th>\n",
              "      <td>1.1</td>\n",
              "      <td>93.994</td>\n",
              "      <td>-36.4</td>\n",
              "      <td>4.857</td>\n",
              "      <td>5191.0</td>\n",
              "    </tr>\n",
              "    <tr>\n",
              "      <th>2</th>\n",
              "      <td>1.1</td>\n",
              "      <td>93.994</td>\n",
              "      <td>-36.4</td>\n",
              "      <td>4.857</td>\n",
              "      <td>5191.0</td>\n",
              "    </tr>\n",
              "    <tr>\n",
              "      <th>3</th>\n",
              "      <td>1.1</td>\n",
              "      <td>93.994</td>\n",
              "      <td>-36.4</td>\n",
              "      <td>4.857</td>\n",
              "      <td>5191.0</td>\n",
              "    </tr>\n",
              "    <tr>\n",
              "      <th>4</th>\n",
              "      <td>1.1</td>\n",
              "      <td>93.994</td>\n",
              "      <td>-36.4</td>\n",
              "      <td>4.857</td>\n",
              "      <td>5191.0</td>\n",
              "    </tr>\n",
              "  </tbody>\n",
              "</table>\n",
              "</div>\n",
              "      <button class=\"colab-df-convert\" onclick=\"convertToInteractive('df-a30a663c-960c-4678-9c4f-719d5722b2fe')\"\n",
              "              title=\"Convert this dataframe to an interactive table.\"\n",
              "              style=\"display:none;\">\n",
              "        \n",
              "  <svg xmlns=\"http://www.w3.org/2000/svg\" height=\"24px\"viewBox=\"0 0 24 24\"\n",
              "       width=\"24px\">\n",
              "    <path d=\"M0 0h24v24H0V0z\" fill=\"none\"/>\n",
              "    <path d=\"M18.56 5.44l.94 2.06.94-2.06 2.06-.94-2.06-.94-.94-2.06-.94 2.06-2.06.94zm-11 1L8.5 8.5l.94-2.06 2.06-.94-2.06-.94L8.5 2.5l-.94 2.06-2.06.94zm10 10l.94 2.06.94-2.06 2.06-.94-2.06-.94-.94-2.06-.94 2.06-2.06.94z\"/><path d=\"M17.41 7.96l-1.37-1.37c-.4-.4-.92-.59-1.43-.59-.52 0-1.04.2-1.43.59L10.3 9.45l-7.72 7.72c-.78.78-.78 2.05 0 2.83L4 21.41c.39.39.9.59 1.41.59.51 0 1.02-.2 1.41-.59l7.78-7.78 2.81-2.81c.8-.78.8-2.07 0-2.86zM5.41 20L4 18.59l7.72-7.72 1.47 1.35L5.41 20z\"/>\n",
              "  </svg>\n",
              "      </button>\n",
              "      \n",
              "  <style>\n",
              "    .colab-df-container {\n",
              "      display:flex;\n",
              "      flex-wrap:wrap;\n",
              "      gap: 12px;\n",
              "    }\n",
              "\n",
              "    .colab-df-convert {\n",
              "      background-color: #E8F0FE;\n",
              "      border: none;\n",
              "      border-radius: 50%;\n",
              "      cursor: pointer;\n",
              "      display: none;\n",
              "      fill: #1967D2;\n",
              "      height: 32px;\n",
              "      padding: 0 0 0 0;\n",
              "      width: 32px;\n",
              "    }\n",
              "\n",
              "    .colab-df-convert:hover {\n",
              "      background-color: #E2EBFA;\n",
              "      box-shadow: 0px 1px 2px rgba(60, 64, 67, 0.3), 0px 1px 3px 1px rgba(60, 64, 67, 0.15);\n",
              "      fill: #174EA6;\n",
              "    }\n",
              "\n",
              "    [theme=dark] .colab-df-convert {\n",
              "      background-color: #3B4455;\n",
              "      fill: #D2E3FC;\n",
              "    }\n",
              "\n",
              "    [theme=dark] .colab-df-convert:hover {\n",
              "      background-color: #434B5C;\n",
              "      box-shadow: 0px 1px 3px 1px rgba(0, 0, 0, 0.15);\n",
              "      filter: drop-shadow(0px 1px 2px rgba(0, 0, 0, 0.3));\n",
              "      fill: #FFFFFF;\n",
              "    }\n",
              "  </style>\n",
              "\n",
              "      <script>\n",
              "        const buttonEl =\n",
              "          document.querySelector('#df-a30a663c-960c-4678-9c4f-719d5722b2fe button.colab-df-convert');\n",
              "        buttonEl.style.display =\n",
              "          google.colab.kernel.accessAllowed ? 'block' : 'none';\n",
              "\n",
              "        async function convertToInteractive(key) {\n",
              "          const element = document.querySelector('#df-a30a663c-960c-4678-9c4f-719d5722b2fe');\n",
              "          const dataTable =\n",
              "            await google.colab.kernel.invokeFunction('convertToInteractive',\n",
              "                                                     [key], {});\n",
              "          if (!dataTable) return;\n",
              "\n",
              "          const docLinkHtml = 'Like what you see? Visit the ' +\n",
              "            '<a target=\"_blank\" href=https://colab.research.google.com/notebooks/data_table.ipynb>data table notebook</a>'\n",
              "            + ' to learn more about interactive tables.';\n",
              "          element.innerHTML = '';\n",
              "          dataTable['output_type'] = 'display_data';\n",
              "          await google.colab.output.renderOutput(dataTable, element);\n",
              "          const docLink = document.createElement('div');\n",
              "          docLink.innerHTML = docLinkHtml;\n",
              "          element.appendChild(docLink);\n",
              "        }\n",
              "      </script>\n",
              "    </div>\n",
              "  </div>\n",
              "  "
            ]
          },
          "metadata": {},
          "execution_count": 32
        }
      ],
      "source": [
        "# creating the social and economic dataframe \n",
        "socialEconomic = df.iloc[:,15:20]\n",
        "socialEconomic.head()"
      ]
    },
    {
      "cell_type": "markdown",
      "metadata": {
        "id": "O6w8dMnUiT6T"
      },
      "source": [
        "All of these values are already numerical, and therefore no preprocessing of these inputs are needed. "
      ]
    },
    {
      "cell_type": "markdown",
      "metadata": {
        "id": "zD2WMcIziT6T"
      },
      "source": [
        "## 2.4 Other attributes"
      ]
    },
    {
      "cell_type": "code",
      "execution_count": null,
      "metadata": {
        "id": "o4iWAnPFiT6U",
        "outputId": "6f249339-fc9b-43bf-e7b2-0d6f918b0b84",
        "colab": {
          "base_uri": "https://localhost:8080/",
          "height": 270
        }
      },
      "outputs": [
        {
          "output_type": "execute_result",
          "data": {
            "text/plain": [
              "   campaign  pdays  previous     poutcome\n",
              "0         1    999         0  nonexistent\n",
              "1         1    999         0  nonexistent\n",
              "2         1    999         0  nonexistent\n",
              "3         1    999         0  nonexistent\n",
              "4         1    999         0  nonexistent"
            ],
            "text/html": [
              "\n",
              "  <div id=\"df-7833d993-1ed6-4d91-b360-e733aa80e89c\">\n",
              "    <div class=\"colab-df-container\">\n",
              "      <div>\n",
              "<style scoped>\n",
              "    .dataframe tbody tr th:only-of-type {\n",
              "        vertical-align: middle;\n",
              "    }\n",
              "\n",
              "    .dataframe tbody tr th {\n",
              "        vertical-align: top;\n",
              "    }\n",
              "\n",
              "    .dataframe thead th {\n",
              "        text-align: right;\n",
              "    }\n",
              "</style>\n",
              "<table border=\"1\" class=\"dataframe\">\n",
              "  <thead>\n",
              "    <tr style=\"text-align: right;\">\n",
              "      <th></th>\n",
              "      <th>campaign</th>\n",
              "      <th>pdays</th>\n",
              "      <th>previous</th>\n",
              "      <th>poutcome</th>\n",
              "    </tr>\n",
              "  </thead>\n",
              "  <tbody>\n",
              "    <tr>\n",
              "      <th>0</th>\n",
              "      <td>1</td>\n",
              "      <td>999</td>\n",
              "      <td>0</td>\n",
              "      <td>nonexistent</td>\n",
              "    </tr>\n",
              "    <tr>\n",
              "      <th>1</th>\n",
              "      <td>1</td>\n",
              "      <td>999</td>\n",
              "      <td>0</td>\n",
              "      <td>nonexistent</td>\n",
              "    </tr>\n",
              "    <tr>\n",
              "      <th>2</th>\n",
              "      <td>1</td>\n",
              "      <td>999</td>\n",
              "      <td>0</td>\n",
              "      <td>nonexistent</td>\n",
              "    </tr>\n",
              "    <tr>\n",
              "      <th>3</th>\n",
              "      <td>1</td>\n",
              "      <td>999</td>\n",
              "      <td>0</td>\n",
              "      <td>nonexistent</td>\n",
              "    </tr>\n",
              "    <tr>\n",
              "      <th>4</th>\n",
              "      <td>1</td>\n",
              "      <td>999</td>\n",
              "      <td>0</td>\n",
              "      <td>nonexistent</td>\n",
              "    </tr>\n",
              "  </tbody>\n",
              "</table>\n",
              "</div>\n",
              "      <button class=\"colab-df-convert\" onclick=\"convertToInteractive('df-7833d993-1ed6-4d91-b360-e733aa80e89c')\"\n",
              "              title=\"Convert this dataframe to an interactive table.\"\n",
              "              style=\"display:none;\">\n",
              "        \n",
              "  <svg xmlns=\"http://www.w3.org/2000/svg\" height=\"24px\"viewBox=\"0 0 24 24\"\n",
              "       width=\"24px\">\n",
              "    <path d=\"M0 0h24v24H0V0z\" fill=\"none\"/>\n",
              "    <path d=\"M18.56 5.44l.94 2.06.94-2.06 2.06-.94-2.06-.94-.94-2.06-.94 2.06-2.06.94zm-11 1L8.5 8.5l.94-2.06 2.06-.94-2.06-.94L8.5 2.5l-.94 2.06-2.06.94zm10 10l.94 2.06.94-2.06 2.06-.94-2.06-.94-.94-2.06-.94 2.06-2.06.94z\"/><path d=\"M17.41 7.96l-1.37-1.37c-.4-.4-.92-.59-1.43-.59-.52 0-1.04.2-1.43.59L10.3 9.45l-7.72 7.72c-.78.78-.78 2.05 0 2.83L4 21.41c.39.39.9.59 1.41.59.51 0 1.02-.2 1.41-.59l7.78-7.78 2.81-2.81c.8-.78.8-2.07 0-2.86zM5.41 20L4 18.59l7.72-7.72 1.47 1.35L5.41 20z\"/>\n",
              "  </svg>\n",
              "      </button>\n",
              "      \n",
              "  <style>\n",
              "    .colab-df-container {\n",
              "      display:flex;\n",
              "      flex-wrap:wrap;\n",
              "      gap: 12px;\n",
              "    }\n",
              "\n",
              "    .colab-df-convert {\n",
              "      background-color: #E8F0FE;\n",
              "      border: none;\n",
              "      border-radius: 50%;\n",
              "      cursor: pointer;\n",
              "      display: none;\n",
              "      fill: #1967D2;\n",
              "      height: 32px;\n",
              "      padding: 0 0 0 0;\n",
              "      width: 32px;\n",
              "    }\n",
              "\n",
              "    .colab-df-convert:hover {\n",
              "      background-color: #E2EBFA;\n",
              "      box-shadow: 0px 1px 2px rgba(60, 64, 67, 0.3), 0px 1px 3px 1px rgba(60, 64, 67, 0.15);\n",
              "      fill: #174EA6;\n",
              "    }\n",
              "\n",
              "    [theme=dark] .colab-df-convert {\n",
              "      background-color: #3B4455;\n",
              "      fill: #D2E3FC;\n",
              "    }\n",
              "\n",
              "    [theme=dark] .colab-df-convert:hover {\n",
              "      background-color: #434B5C;\n",
              "      box-shadow: 0px 1px 3px 1px rgba(0, 0, 0, 0.15);\n",
              "      filter: drop-shadow(0px 1px 2px rgba(0, 0, 0, 0.3));\n",
              "      fill: #FFFFFF;\n",
              "    }\n",
              "  </style>\n",
              "\n",
              "      <script>\n",
              "        const buttonEl =\n",
              "          document.querySelector('#df-7833d993-1ed6-4d91-b360-e733aa80e89c button.colab-df-convert');\n",
              "        buttonEl.style.display =\n",
              "          google.colab.kernel.accessAllowed ? 'block' : 'none';\n",
              "\n",
              "        async function convertToInteractive(key) {\n",
              "          const element = document.querySelector('#df-7833d993-1ed6-4d91-b360-e733aa80e89c');\n",
              "          const dataTable =\n",
              "            await google.colab.kernel.invokeFunction('convertToInteractive',\n",
              "                                                     [key], {});\n",
              "          if (!dataTable) return;\n",
              "\n",
              "          const docLinkHtml = 'Like what you see? Visit the ' +\n",
              "            '<a target=\"_blank\" href=https://colab.research.google.com/notebooks/data_table.ipynb>data table notebook</a>'\n",
              "            + ' to learn more about interactive tables.';\n",
              "          element.innerHTML = '';\n",
              "          dataTable['output_type'] = 'display_data';\n",
              "          await google.colab.output.renderOutput(dataTable, element);\n",
              "          const docLink = document.createElement('div');\n",
              "          docLink.innerHTML = docLinkHtml;\n",
              "          element.appendChild(docLink);\n",
              "        }\n",
              "      </script>\n",
              "    </div>\n",
              "  </div>\n",
              "  "
            ]
          },
          "metadata": {},
          "execution_count": 33
        }
      ],
      "source": [
        "otherAttr = df.iloc[:,11:15]\n",
        "otherAttr.head()"
      ]
    },
    {
      "cell_type": "code",
      "execution_count": null,
      "metadata": {
        "id": "5WSaEYqliT6V",
        "outputId": "f8e01cd2-900e-4531-b80d-f5dde60a17b2",
        "colab": {
          "base_uri": "https://localhost:8080/"
        }
      },
      "outputs": [
        {
          "output_type": "execute_result",
          "data": {
            "text/plain": [
              "array(['nonexistent', 'failure', 'success'], dtype=object)"
            ]
          },
          "metadata": {},
          "execution_count": 34
        }
      ],
      "source": [
        "otherAttr['poutcome'].unique()"
      ]
    },
    {
      "cell_type": "code",
      "execution_count": null,
      "metadata": {
        "id": "n9Z-rlNniT6V",
        "outputId": "5c5c4e09-8757-45e3-b1da-0819d726464f",
        "colab": {
          "base_uri": "https://localhost:8080/",
          "height": 270
        }
      },
      "outputs": [
        {
          "output_type": "execute_result",
          "data": {
            "text/plain": [
              "   campaign  pdays  previous  poutcome_nonexistent  poutcome_success\n",
              "0         1    999         0                     1                 0\n",
              "1         1    999         0                     1                 0\n",
              "2         1    999         0                     1                 0\n",
              "3         1    999         0                     1                 0\n",
              "4         1    999         0                     1                 0"
            ],
            "text/html": [
              "\n",
              "  <div id=\"df-853daefc-2719-4903-9706-343daf1ad2f1\">\n",
              "    <div class=\"colab-df-container\">\n",
              "      <div>\n",
              "<style scoped>\n",
              "    .dataframe tbody tr th:only-of-type {\n",
              "        vertical-align: middle;\n",
              "    }\n",
              "\n",
              "    .dataframe tbody tr th {\n",
              "        vertical-align: top;\n",
              "    }\n",
              "\n",
              "    .dataframe thead th {\n",
              "        text-align: right;\n",
              "    }\n",
              "</style>\n",
              "<table border=\"1\" class=\"dataframe\">\n",
              "  <thead>\n",
              "    <tr style=\"text-align: right;\">\n",
              "      <th></th>\n",
              "      <th>campaign</th>\n",
              "      <th>pdays</th>\n",
              "      <th>previous</th>\n",
              "      <th>poutcome_nonexistent</th>\n",
              "      <th>poutcome_success</th>\n",
              "    </tr>\n",
              "  </thead>\n",
              "  <tbody>\n",
              "    <tr>\n",
              "      <th>0</th>\n",
              "      <td>1</td>\n",
              "      <td>999</td>\n",
              "      <td>0</td>\n",
              "      <td>1</td>\n",
              "      <td>0</td>\n",
              "    </tr>\n",
              "    <tr>\n",
              "      <th>1</th>\n",
              "      <td>1</td>\n",
              "      <td>999</td>\n",
              "      <td>0</td>\n",
              "      <td>1</td>\n",
              "      <td>0</td>\n",
              "    </tr>\n",
              "    <tr>\n",
              "      <th>2</th>\n",
              "      <td>1</td>\n",
              "      <td>999</td>\n",
              "      <td>0</td>\n",
              "      <td>1</td>\n",
              "      <td>0</td>\n",
              "    </tr>\n",
              "    <tr>\n",
              "      <th>3</th>\n",
              "      <td>1</td>\n",
              "      <td>999</td>\n",
              "      <td>0</td>\n",
              "      <td>1</td>\n",
              "      <td>0</td>\n",
              "    </tr>\n",
              "    <tr>\n",
              "      <th>4</th>\n",
              "      <td>1</td>\n",
              "      <td>999</td>\n",
              "      <td>0</td>\n",
              "      <td>1</td>\n",
              "      <td>0</td>\n",
              "    </tr>\n",
              "  </tbody>\n",
              "</table>\n",
              "</div>\n",
              "      <button class=\"colab-df-convert\" onclick=\"convertToInteractive('df-853daefc-2719-4903-9706-343daf1ad2f1')\"\n",
              "              title=\"Convert this dataframe to an interactive table.\"\n",
              "              style=\"display:none;\">\n",
              "        \n",
              "  <svg xmlns=\"http://www.w3.org/2000/svg\" height=\"24px\"viewBox=\"0 0 24 24\"\n",
              "       width=\"24px\">\n",
              "    <path d=\"M0 0h24v24H0V0z\" fill=\"none\"/>\n",
              "    <path d=\"M18.56 5.44l.94 2.06.94-2.06 2.06-.94-2.06-.94-.94-2.06-.94 2.06-2.06.94zm-11 1L8.5 8.5l.94-2.06 2.06-.94-2.06-.94L8.5 2.5l-.94 2.06-2.06.94zm10 10l.94 2.06.94-2.06 2.06-.94-2.06-.94-.94-2.06-.94 2.06-2.06.94z\"/><path d=\"M17.41 7.96l-1.37-1.37c-.4-.4-.92-.59-1.43-.59-.52 0-1.04.2-1.43.59L10.3 9.45l-7.72 7.72c-.78.78-.78 2.05 0 2.83L4 21.41c.39.39.9.59 1.41.59.51 0 1.02-.2 1.41-.59l7.78-7.78 2.81-2.81c.8-.78.8-2.07 0-2.86zM5.41 20L4 18.59l7.72-7.72 1.47 1.35L5.41 20z\"/>\n",
              "  </svg>\n",
              "      </button>\n",
              "      \n",
              "  <style>\n",
              "    .colab-df-container {\n",
              "      display:flex;\n",
              "      flex-wrap:wrap;\n",
              "      gap: 12px;\n",
              "    }\n",
              "\n",
              "    .colab-df-convert {\n",
              "      background-color: #E8F0FE;\n",
              "      border: none;\n",
              "      border-radius: 50%;\n",
              "      cursor: pointer;\n",
              "      display: none;\n",
              "      fill: #1967D2;\n",
              "      height: 32px;\n",
              "      padding: 0 0 0 0;\n",
              "      width: 32px;\n",
              "    }\n",
              "\n",
              "    .colab-df-convert:hover {\n",
              "      background-color: #E2EBFA;\n",
              "      box-shadow: 0px 1px 2px rgba(60, 64, 67, 0.3), 0px 1px 3px 1px rgba(60, 64, 67, 0.15);\n",
              "      fill: #174EA6;\n",
              "    }\n",
              "\n",
              "    [theme=dark] .colab-df-convert {\n",
              "      background-color: #3B4455;\n",
              "      fill: #D2E3FC;\n",
              "    }\n",
              "\n",
              "    [theme=dark] .colab-df-convert:hover {\n",
              "      background-color: #434B5C;\n",
              "      box-shadow: 0px 1px 3px 1px rgba(0, 0, 0, 0.15);\n",
              "      filter: drop-shadow(0px 1px 2px rgba(0, 0, 0, 0.3));\n",
              "      fill: #FFFFFF;\n",
              "    }\n",
              "  </style>\n",
              "\n",
              "      <script>\n",
              "        const buttonEl =\n",
              "          document.querySelector('#df-853daefc-2719-4903-9706-343daf1ad2f1 button.colab-df-convert');\n",
              "        buttonEl.style.display =\n",
              "          google.colab.kernel.accessAllowed ? 'block' : 'none';\n",
              "\n",
              "        async function convertToInteractive(key) {\n",
              "          const element = document.querySelector('#df-853daefc-2719-4903-9706-343daf1ad2f1');\n",
              "          const dataTable =\n",
              "            await google.colab.kernel.invokeFunction('convertToInteractive',\n",
              "                                                     [key], {});\n",
              "          if (!dataTable) return;\n",
              "\n",
              "          const docLinkHtml = 'Like what you see? Visit the ' +\n",
              "            '<a target=\"_blank\" href=https://colab.research.google.com/notebooks/data_table.ipynb>data table notebook</a>'\n",
              "            + ' to learn more about interactive tables.';\n",
              "          element.innerHTML = '';\n",
              "          dataTable['output_type'] = 'display_data';\n",
              "          await google.colab.output.renderOutput(dataTable, element);\n",
              "          const docLink = document.createElement('div');\n",
              "          docLink.innerHTML = docLinkHtml;\n",
              "          element.appendChild(docLink);\n",
              "        }\n",
              "      </script>\n",
              "    </div>\n",
              "  </div>\n",
              "  "
            ]
          },
          "metadata": {},
          "execution_count": 35
        }
      ],
      "source": [
        "otherAttr = pd.get_dummies(data = otherAttr, drop_first = True, columns = ['poutcome'] , prefix = ['poutcome'])\n",
        "otherAttr.head()"
      ]
    },
    {
      "cell_type": "markdown",
      "metadata": {
        "id": "6TGHe6EsiT6V"
      },
      "source": [
        "For the other attributes of the dataset every column except the poutcome are already numerical values and does not need preprocessing. The same method for converting categorical values into numerical values are used here as before.\n",
        "Afterwards this is getting concatenated into an X variable for our models. "
      ]
    },
    {
      "cell_type": "code",
      "execution_count": null,
      "metadata": {
        "id": "RgfX316QiT6V"
      },
      "outputs": [],
      "source": [
        "# concatenating these dataframes to create the X value \n",
        "x = pd.concat([clientData, contactData, socialEconomic, otherAttr], axis = 1)\n"
      ]
    },
    {
      "cell_type": "markdown",
      "metadata": {
        "id": "wDBFF7opiT6W"
      },
      "source": [
        "# 3. Model preparation"
      ]
    },
    {
      "cell_type": "markdown",
      "metadata": {
        "id": "XFL7LIE7iT6W"
      },
      "source": [
        "## 3.1 Target variable"
      ]
    },
    {
      "cell_type": "code",
      "execution_count": null,
      "metadata": {
        "id": "jCg_lBd-iT6W"
      },
      "outputs": [],
      "source": [
        "# creating the target variable and converting the categorical values to dummy variables\n",
        "y = df['y']\n",
        "y = pd.get_dummies(data = df['y'], columns = ['y'] , prefix = ['y'], drop_first=True)\n"
      ]
    },
    {
      "cell_type": "code",
      "execution_count": null,
      "metadata": {
        "id": "Q5RXNGIJiT6W",
        "outputId": "aec0a36e-0fb3-4ad8-9489-e610596c1da0",
        "colab": {
          "base_uri": "https://localhost:8080/"
        }
      },
      "outputs": [
        {
          "output_type": "execute_result",
          "data": {
            "text/plain": [
              "['y']_yes\n",
              "0            36548\n",
              "1             4640\n",
              "dtype: int64"
            ]
          },
          "metadata": {},
          "execution_count": 38
        }
      ],
      "source": [
        "# checking the number count of each output variable \n",
        "y.value_counts()"
      ]
    },
    {
      "cell_type": "code",
      "execution_count": null,
      "metadata": {
        "id": "_iB4LQK2iT6W"
      },
      "outputs": [],
      "source": [
        "scaler = StandardScaler()\n",
        "x = scaler.fit_transform(x)"
      ]
    },
    {
      "cell_type": "markdown",
      "metadata": {
        "id": "uHXU8qnKiT6W"
      },
      "source": [
        "## 3.2 Train Test Split"
      ]
    },
    {
      "cell_type": "markdown",
      "metadata": {
        "id": "qua4VI_riT6W"
      },
      "source": [
        "The dataset is not split into a train and a test set with 20% being the test set. For this the sklearn library will be used. "
      ]
    },
    {
      "cell_type": "code",
      "execution_count": null,
      "metadata": {
        "id": "SaLnOkT4iT6W"
      },
      "outputs": [],
      "source": [
        "# splitting the train and test set\n",
        "X_train, X_test, y_train, y_test = train_test_split(x, y, test_size = 0.25, random_state = 21)"
      ]
    },
    {
      "cell_type": "code",
      "execution_count": null,
      "metadata": {
        "id": "O6zOiMr-iT6W"
      },
      "outputs": [],
      "source": [
        "# creating the smote predictor to oversample the data \n",
        "smote = SMOTE()"
      ]
    },
    {
      "cell_type": "code",
      "execution_count": null,
      "metadata": {
        "id": "Ie6yvXsfiT6X"
      },
      "outputs": [],
      "source": [
        "# fit the smote function to X_train and y_train \n",
        "X_smote, y_smote = smote.fit_resample(X_train, y_train)"
      ]
    },
    {
      "cell_type": "code",
      "execution_count": null,
      "metadata": {
        "id": "vBXsoKhOiT6X",
        "outputId": "b906c0bf-38c8-4f61-8b87-3d2b204c9220",
        "colab": {
          "base_uri": "https://localhost:8080/"
        }
      },
      "outputs": [
        {
          "output_type": "stream",
          "name": "stdout",
          "text": [
            "Original dataset shape 30891\n",
            "Oversampled dataset shape 54824\n"
          ]
        }
      ],
      "source": [
        "# checking the difference in the original dataset and the new oversampled one \n",
        "print('Original dataset shape', len(X_train))\n",
        "print('Oversampled dataset shape', len(X_smote))"
      ]
    },
    {
      "cell_type": "markdown",
      "metadata": {
        "id": "5KtRAS-ciT6X"
      },
      "source": [
        "From the above calculation of the target variable, y, it can be seen that the dataset is imbalanced. For handling this it is nessesary to either do over- or undersampling, "
      ]
    },
    {
      "cell_type": "markdown",
      "metadata": {
        "id": "vNXbmR3aiT6X"
      },
      "source": [
        "Here the target value is converted to dummy variables, but it is noticed that the dataset is imbalanced. There are two possibilities to handle this, either with doing undersampling or oversampling. For this problem the oversampling method will be used with the SMOTE. "
      ]
    },
    {
      "cell_type": "code",
      "execution_count": null,
      "metadata": {
        "id": "6qPYekySiT6Y",
        "outputId": "6f5015ed-eb5c-422b-b59f-90492342cfe9",
        "colab": {
          "base_uri": "https://localhost:8080/"
        }
      },
      "outputs": [
        {
          "output_type": "execute_result",
          "data": {
            "text/plain": [
              "['y']_yes\n",
              "0            36548\n",
              "1             4640\n",
              "dtype: int64"
            ]
          },
          "metadata": {},
          "execution_count": 44
        }
      ],
      "source": [
        "y.value_counts()"
      ]
    },
    {
      "cell_type": "code",
      "execution_count": null,
      "metadata": {
        "id": "nzycsS8qiT6Y"
      },
      "outputs": [],
      "source": [
        "X_train,X_test,y_train,y_test = train_test_split(x,y, random_state=42)"
      ]
    },
    {
      "cell_type": "markdown",
      "metadata": {
        "id": "s8kxwlEZiT6Y"
      },
      "source": [
        "# 4. Baseline Model"
      ]
    },
    {
      "cell_type": "markdown",
      "metadata": {
        "id": "1xP8qFpBiT6Y"
      },
      "source": [
        "For the base model, a bootstrap aggregation (bagging) of the knn and decision tree model will be used. The bagging has the aim of strengthening the precision of knn and the decision tree model by combining them. Bagging also helps reduce the variance, hence eliminating the potential overfitting of the models. However, this is not applicable in this instance, since SMOTE has already been applied. Another option could be boosting for the base model, with both advantages and disadvantages (one of them being overfitting). \n"
      ]
    },
    {
      "cell_type": "code",
      "execution_count": null,
      "metadata": {
        "id": "g_EyzWZ6iT6Z"
      },
      "outputs": [],
      "source": [
        "randomState = 42"
      ]
    },
    {
      "cell_type": "code",
      "execution_count": null,
      "metadata": {
        "id": "ZX3HVmkGiT6Z"
      },
      "outputs": [],
      "source": [
        "class modelClass():\n",
        "    def __init__(self):\n",
        "        self.data=[]\n",
        "\n",
        "    def classification(self, clf, xTrain, xTest, yTrain, yTest):\n",
        "        #prediction\n",
        "        yTestPred = clf.predict(xTest)\n",
        "        yTrainPred = clf.predict(xTrain)\n",
        "        #accuracy\n",
        "        accTest = accuracy_score(yTest, yTestPred)\n",
        "        accTrain = accuracy_score(yTrain, yTrainPred)\n",
        "        #roc (true positives, versus false positives)\n",
        "        rocTest = roc_auc_score(yTest, yTestPred, multi_class='ovr')\n",
        "        rocTrain = roc_auc_score(yTrain, yTrainPred, multi_class='ovr')\n",
        "        #scoring\n",
        "        precisionTest = precision_score(yTest, yTestPred)\n",
        "        precisionTrain = precision_score(yTrain, yTrainPred)\n",
        "        #classification report\n",
        "        recallTest = recall_score(yTest, yTestPred)\n",
        "        recallTrain = recall_score(yTrain, yTrainPred)\n",
        "        print(\"Train accuracy:\", accTrain)\n",
        "        print(\"Test accuracy:\", accTest)\n",
        "        print(\"Train ROC: \", rocTrain)\n",
        "        print(\"Test ROC: \", rocTest)\n",
        "        print(\"Train precision: \", precisionTrain)\n",
        "        print(\"Test precision: \", precisionTest)\n",
        "        print(\"Train recall: \", recallTrain)\n",
        "        print(\"Test recall: \", recallTest)\n",
        "\n",
        "    def randomSearch(self, clf, params, xTrain, xTest, yTrain, yTest):\n",
        "        scoreAndAccuracy = self.classification(clf, xTrain, xTest, yTrain, yTest)\n",
        "        #choosing best best/optimal model\n",
        "        randomSearcher = RandomizedSearchCV(estimator=clf, param_distributions=params, scoring='roc_auc', cv=5)\n",
        "        randomSearcher.fit(xTrain, yTrain)\n",
        "        bestModel = randomSearcher.best_estimator_\n",
        "        return print(\"Best parameters: \", randomSearcher.best_params_), print(\"Best estimator: \", bestModel), print(scoreAndAccuracy)\n",
        "\n",
        "classifier = modelClass()\n"
      ]
    },
    {
      "cell_type": "markdown",
      "metadata": {
        "id": "rShZPnBLiT6Z"
      },
      "source": [
        "## 4.1 KNN Classifier"
      ]
    },
    {
      "cell_type": "code",
      "execution_count": null,
      "metadata": {
        "id": "KJ8yEZmBiT6Z",
        "outputId": "36aa6091-bd91-4f29-ddff-8d0e012d2fdd",
        "colab": {
          "base_uri": "https://localhost:8080/"
        }
      },
      "outputs": [
        {
          "output_type": "stream",
          "name": "stdout",
          "text": [
            "Train accuracy: 0.6865059098205165\n",
            "Test accuracy: 0.8907448771486841\n",
            "Train ROC:  0.6865059098205165\n",
            "Test ROC:  0.6235596173852076\n",
            "Train precision:  0.9463116542994325\n",
            "Test precision:  0.5227272727272727\n",
            "Train recall:  0.39544724937983367\n",
            "Test recall:  0.2792714657415438\n"
          ]
        }
      ],
      "source": [
        "knn = KNeighborsClassifier(n_neighbors=5)\n",
        "knn.fit(X_train, y_train)\n",
        "classifier.classification(knn, X_smote, X_test, y_smote, y_test)"
      ]
    },
    {
      "cell_type": "code",
      "execution_count": null,
      "metadata": {
        "id": "3kA59WbsiT6a",
        "outputId": "ae22360e-14a5-4cf2-e65b-10ef2c5d78c5",
        "colab": {
          "base_uri": "https://localhost:8080/"
        }
      },
      "outputs": [
        {
          "output_type": "stream",
          "name": "stdout",
          "text": [
            "Train accuracy: 0.8727382168393404\n",
            "Test accuracy: 0.7713897251626688\n",
            "Train ROC:  0.8727382168393405\n",
            "Test ROC:  0.8114043474400912\n",
            "Train precision:  0.8114236947179128\n",
            "Test precision:  0.31181447821999375\n",
            "Train recall:  0.97118050488837\n",
            "Test recall:  0.8629661751951431\n"
          ]
        }
      ],
      "source": [
        "#bagging\n",
        "model = BaggingClassifier(base_estimator=KNeighborsClassifier(n_neighbors=10), n_estimators = 10, n_jobs = 5, verbose=0)\n",
        "classifier.classification(model.fit(X_smote, y_smote), X_smote, X_test, y_smote, y_test)\n"
      ]
    },
    {
      "cell_type": "markdown",
      "metadata": {
        "id": "VTHLFPoriT6a"
      },
      "source": [
        "## 4.2 Decision Tree"
      ]
    },
    {
      "cell_type": "code",
      "execution_count": null,
      "metadata": {
        "id": "5E7hHS6ZiT6a",
        "outputId": "ead0fce7-b3ce-47d2-ec7b-821976e23b57",
        "colab": {
          "base_uri": "https://localhost:8080/"
        }
      },
      "outputs": [
        {
          "output_type": "stream",
          "name": "stdout",
          "text": [
            "Train accuracy: 0.9954355637564339\n",
            "Test accuracy: 0.8427697387588619\n",
            "Train ROC:  0.9805329129355372\n",
            "Test ROC:  0.6170117856039895\n",
            "Train precision:  0.9982132221560452\n",
            "Test precision:  0.30870279146141216\n",
            "Train recall:  0.961284772010324\n",
            "Test recall:  0.3261058109280139\n"
          ]
        }
      ],
      "source": [
        "decisionTree = DecisionTreeClassifier(random_state=randomState)\n",
        "decisionTree.fit(X_train, y_train)\n",
        "classifier.classification(decisionTree, X_train, X_test, y_train, y_test)"
      ]
    },
    {
      "cell_type": "code",
      "execution_count": null,
      "metadata": {
        "id": "1XtKZz-PiT6a",
        "outputId": "d4a03123-9e4a-4713-ce0d-48993a2db52d",
        "colab": {
          "base_uri": "https://localhost:8080/"
        }
      },
      "outputs": [
        {
          "output_type": "stream",
          "name": "stdout",
          "text": [
            "Train accuracy: 0.9954355637564339\n",
            "Test accuracy: 0.8427697387588619\n",
            "Train ROC:  0.9805329129355372\n",
            "Test ROC:  0.6170117856039895\n",
            "Train precision:  0.9982132221560452\n",
            "Test precision:  0.30870279146141216\n",
            "Train recall:  0.961284772010324\n",
            "Test recall:  0.3261058109280139\n",
            "Best parameters:  {'min_samples_split': 15, 'min_samples_leaf': 27, 'max_depth': 8, 'criterion': 'entropy'}\n",
            "Best estimator:  DecisionTreeClassifier(criterion='entropy', max_depth=8, min_samples_leaf=27,\n",
            "                       min_samples_split=15, random_state=42)\n",
            "None\n"
          ]
        },
        {
          "output_type": "execute_result",
          "data": {
            "text/plain": [
              "(None, None, None)"
            ]
          },
          "metadata": {},
          "execution_count": 51
        }
      ],
      "source": [
        "#getting best paramaters\n",
        "paramGrid = {'max_depth':np.arange(3,20),\n",
        "              'min_samples_split': np.arange(3,20,1),\n",
        "             'min_samples_leaf':np.arange(3,30),\n",
        "              'min_samples_split' : np.arange(3,30),\n",
        "              'criterion': ('gini', 'entropy')}\n",
        "\n",
        "classifier.randomSearch(decisionTree, paramGrid, X_train, X_test, y_train, y_test)"
      ]
    },
    {
      "cell_type": "markdown",
      "metadata": {
        "id": "iTI_RMPiiT6a"
      },
      "source": [
        "## 4.3 Base model with bootstrap aggregation"
      ]
    },
    {
      "cell_type": "code",
      "execution_count": null,
      "metadata": {
        "id": "lNflcfVFiT6b",
        "outputId": "25bc9e45-182f-4689-a82b-950d0cda8b90",
        "colab": {
          "base_uri": "https://localhost:8080/"
        }
      },
      "outputs": [
        {
          "output_type": "stream",
          "name": "stdout",
          "text": [
            "Train accuracy: 0.8483510871151321\n",
            "Test accuracy: 0.8769544527532291\n",
            "Train ROC:  0.8483510871151321\n",
            "Test ROC:  0.7211488118408442\n",
            "Train precision:  0.9086357411845258\n",
            "Test precision:  0.45662100456621\n",
            "Train recall:  0.774587771778783\n",
            "Test recall:  0.5203816131830009\n"
          ]
        }
      ],
      "source": [
        "#bagging with best parameters\n",
        "model = BaggingClassifier(base_estimator = DecisionTreeClassifier(min_samples_split=25, min_samples_leaf=6, max_depth=6, criterion='entropy'))\n",
        "classifier.classification(model.fit(X_smote, y_smote), X_smote,X_test,y_smote,y_test)"
      ]
    },
    {
      "cell_type": "markdown",
      "metadata": {
        "id": "Cv5C2-f-iT6b"
      },
      "source": [
        "Thus, the test accuracy is slighty lowered from the original KNN model, however both ROC and recall of the models are increased by the aggregation. The model seems to performing acceptably, with a test accuracy of 87,6% a ROC of 72,52% a precision of 45,43% and a recall of 53%."
      ]
    },
    {
      "cell_type": "markdown",
      "metadata": {
        "id": "eCGpf7vriT6b"
      },
      "source": [
        "# 5. Artifical neural network"
      ]
    },
    {
      "cell_type": "markdown",
      "metadata": {
        "id": "iboZUWNciT6b"
      },
      "source": [
        "## 5.1 Architecture"
      ]
    },
    {
      "cell_type": "markdown",
      "metadata": {
        "id": "Ext1IXQyiT6b"
      },
      "source": [
        "Due to the nature of the data, an ANN model will be used. Had the data been sequence (where points are dependents on each other in the dataset), an RNN would have been used instead. However, since there is no dependency among the points, and the data is text and tabular with no fixed length as input, and no recurrent connection, the ANN model is deemed most likely. \n",
        "\n",
        "Thus, the model will not be using any memory neurons/layers such as LSTM.\n",
        "For the input layer, a dense layer with 62 neurons, corresponding to the number of features, will be used. The activation function used for this will be the ReLu activation functions as this is currently seen as best practice over other activation functions such as Tanh.\n",
        "\n",
        "For the output layer, a 1-neuron dense layer will be used, due to the binary classification task at hand. Furthermore, since the model is a binary classification model, the output layer will be using the sigmoid activation function. If the aim was multiclassification the softmax activation function would, most likely, be used instead. \n",
        "As for the hidden layers, a dense layer of n amount of neurons (determined later) will be used. This will be determined by trial-and-error testing of layers with a different number of neurons. \n",
        "\n",
        "Furthermore, the model will be using Adam as the optimizer, as this is also currently recognized as the best optimizer currently. \n",
        "Lastly, the model will be using the binary cross-entropy loss function, due to the binary classification objective. Were the task multiclassification (e.g., the customer will subscribe to a term deposit; yes/no/maybe), then the categorical cross-entropy would be used instead (along with the softmax activation function in the output layer). "
      ]
    },
    {
      "cell_type": "markdown",
      "metadata": {
        "id": "dxuB6UYZiT6c"
      },
      "source": [
        "As mentioned earlier, the best way to find the right amount of layers and neurons in the ANN is by trial and error. Thus, different amount of nodes will be tested, using the KerasClassifier."
      ]
    },
    {
      "cell_type": "code",
      "execution_count": null,
      "metadata": {
        "id": "ySzoOVRtiT6c"
      },
      "outputs": [],
      "source": [
        "def createModel(layers):\n",
        "    model = Sequential()\n",
        "    for i,nodes in enumerate(layers):\n",
        "        if i==0:\n",
        "            model.add(Dense(nodes, input_dim = X_train.shape[1], activation='relu'))\n",
        "        else:\n",
        "            model.add(Dense(nodes, activation='relu'))\n",
        "    model.add(Dense(1, activation='sigmoid'))\n",
        "    model.compile(loss='binary_crossentropy', optimizer='adam', metrics=[\"accuracy\"])\n",
        "\n",
        "    return model\n",
        "\n",
        "dl_model = KerasClassifier(build_fn=createModel, verbose = 0)"
      ]
    },
    {
      "cell_type": "code",
      "execution_count": null,
      "metadata": {
        "id": "ROVTQjDFiT6c"
      },
      "outputs": [],
      "source": [
        "layerList = [[64], [128], [256], [512]]\n",
        "paramGrid = dict(layers=layerList, batch_size = [64, 128], epochs=[60])\n",
        "grid = GridSearchCV(estimator=dl_model, param_grid=paramGrid)\n"
      ]
    },
    {
      "cell_type": "code",
      "execution_count": null,
      "metadata": {
        "id": "S5unP-xaiT6c"
      },
      "outputs": [],
      "source": [
        "grid_result = grid.fit(X_train, y_train)"
      ]
    },
    {
      "cell_type": "code",
      "execution_count": null,
      "metadata": {
        "id": "u-gnbZb5iT6c",
        "outputId": "d6d524fd-f8c0-4984-9fd4-4d7418984a73",
        "colab": {
          "base_uri": "https://localhost:8080/"
        }
      },
      "outputs": [
        {
          "output_type": "execute_result",
          "data": {
            "text/plain": [
              "[0.8942086100578308, {'batch_size': 128, 'epochs': 60, 'layers': [64]}]"
            ]
          },
          "metadata": {},
          "execution_count": 56
        }
      ],
      "source": [
        "[grid_result.best_score_, grid_result.best_params_]"
      ]
    },
    {
      "cell_type": "markdown",
      "metadata": {
        "id": "aEzXK6xDiT6d"
      },
      "source": [
        "## 5.2 Deep learning model"
      ]
    },
    {
      "cell_type": "markdown",
      "metadata": {
        "id": "L1_3-V3kiT6d"
      },
      "source": [
        "The best ANN seems to be with a hidden layer consisting of 64:"
      ]
    },
    {
      "cell_type": "code",
      "execution_count": null,
      "metadata": {
        "id": "kvXQNmgfiT6d"
      },
      "outputs": [],
      "source": [
        "dlmodel_0 = Sequential()\n",
        "dlmodel_0.add(Dense(X_train.shape[1],activation='relu'))\n",
        "dlmodel_0.add(Dense(64,activation='relu'))\n",
        "dlmodel_0.add(Dense(1, activation='sigmoid'))\n",
        "dlmodel_0.compile(loss='binary_crossentropy', optimizer='adam', metrics=[\"accuracy\"])"
      ]
    },
    {
      "cell_type": "code",
      "execution_count": null,
      "metadata": {
        "id": "jX9ZcIoMiT6d"
      },
      "outputs": [],
      "source": [
        "history = dlmodel_0.fit(X_smote, \n",
        "                    y_smote,\n",
        "                    epochs = 60,\n",
        "                    batch_size = 64,\n",
        "                    verbose=0, validation_data=(X_test, y_test))"
      ]
    },
    {
      "cell_type": "code",
      "execution_count": null,
      "metadata": {
        "id": "-HuMGEjQiT6d",
        "outputId": "3f8b4b51-9cb8-49c0-f592-eede52fa2c69",
        "colab": {
          "base_uri": "https://localhost:8080/",
          "height": 279
        }
      },
      "outputs": [
        {
          "output_type": "display_data",
          "data": {
            "text/plain": [
              "<Figure size 432x288 with 1 Axes>"
            ],
            "image/png": "[encoded data removed]"
          },
          "metadata": {
            "needs_background": "light"
          }
        }
      ],
      "source": [
        "plt.plot(history.history['val_loss'], 'r')\n",
        "plt.xlabel('Epochs')\n",
        "plt.ylabel('Validation score')\n",
        "plt.show()\n"
      ]
    },
    {
      "cell_type": "markdown",
      "metadata": {
        "id": "3vpVDGNWiT6e"
      },
      "source": [
        "## 5.3 Tuning"
      ]
    },
    {
      "cell_type": "markdown",
      "metadata": {
        "id": "DuwamG33iT6e"
      },
      "source": [
        "### 5.3.1 Addition of neurons"
      ]
    },
    {
      "cell_type": "markdown",
      "metadata": {
        "id": "16mXvEdoiT6e"
      },
      "source": [
        "In an attempt to tune the model further, more neurons will be added to test whether the model improves, despite the previous gridsearchs results."
      ]
    },
    {
      "cell_type": "code",
      "execution_count": null,
      "metadata": {
        "id": "KIu0fTYgiT6e"
      },
      "outputs": [],
      "source": [
        "dlmodel_1 = Sequential()\n",
        "dlmodel_1.add(Dense(X_train.shape[1],activation='relu'))\n",
        "dlmodel_1.add(Dense(256,activation='relu'))\n",
        "dlmodel_1.add(Dense(1, activation='sigmoid'))\n",
        "dlmodel_1.compile(loss='binary_crossentropy', optimizer='adam', metrics=[\"accuracy\"])"
      ]
    },
    {
      "cell_type": "code",
      "execution_count": null,
      "metadata": {
        "id": "y0Ke6iTpiT6e"
      },
      "outputs": [],
      "source": [
        "history1 = dlmodel_1.fit(X_smote, \n",
        "                    y_smote,\n",
        "                    epochs = 60,\n",
        "                    batch_size = 64,\n",
        "                    verbose=0, validation_data=(X_test, y_test))"
      ]
    },
    {
      "cell_type": "code",
      "execution_count": null,
      "metadata": {
        "id": "FJ_4YFlniT6e",
        "outputId": "23c4ca42-9a21-4748-f204-58056ac1f53f",
        "colab": {
          "base_uri": "https://localhost:8080/",
          "height": 279
        }
      },
      "outputs": [
        {
          "output_type": "display_data",
          "data": {
            "text/plain": [
              "<Figure size 432x288 with 1 Axes>"
            ],
            "image/png": "[encoded data removed]"
          },
          "metadata": {
            "needs_background": "light"
          }
        }
      ],
      "source": [
        "plt.plot(history.history['val_loss'], 'r', history1.history['val_loss'], 'b')\n",
        "plt.xlabel('Epochs')\n",
        "plt.ylabel('Validation score')\n",
        "plt.show()\n"
      ]
    },
    {
      "cell_type": "markdown",
      "metadata": {
        "id": "1LEVU1oZiT6f"
      },
      "source": [
        "As shown, the models performance do indeed increase when increasing the amount of neurons."
      ]
    },
    {
      "cell_type": "markdown",
      "metadata": {
        "id": "oZOn7I45iT6f"
      },
      "source": [
        "### 5.3.2 Addition of layers"
      ]
    },
    {
      "cell_type": "code",
      "execution_count": null,
      "metadata": {
        "id": "LX3sL33WiT6f"
      },
      "outputs": [],
      "source": [
        "dlmodel_2 = Sequential()\n",
        "dlmodel_2.add(Dense(X_train.shape[1],activation='relu'))\n",
        "dlmodel_2.add(Dense(64,activation='relu'))\n",
        "dlmodel_2.add(Dense(64,activation='relu'))\n",
        "dlmodel_2.add(Dense(1, activation='sigmoid'))\n",
        "dlmodel_2.compile(loss='binary_crossentropy', optimizer='adam', metrics=[\"accuracy\"])"
      ]
    },
    {
      "cell_type": "code",
      "execution_count": null,
      "metadata": {
        "id": "vL_aeKk3iT6f"
      },
      "outputs": [],
      "source": [
        "history2 = dlmodel_2.fit(X_smote, \n",
        "                    y_smote,\n",
        "                    epochs = 60,\n",
        "                    batch_size = 64,\n",
        "                    verbose=0, validation_data=(X_test, y_test))"
      ]
    },
    {
      "cell_type": "code",
      "execution_count": null,
      "metadata": {
        "id": "Vmvur1wjiT6f",
        "outputId": "1dbbdfa3-fff5-412c-ee16-a3fbdd287a5c",
        "colab": {
          "base_uri": "https://localhost:8080/",
          "height": 279
        }
      },
      "outputs": [
        {
          "output_type": "display_data",
          "data": {
            "text/plain": [
              "<Figure size 432x288 with 1 Axes>"
            ],
            "image/png": "[encoded data removed]"
          },
          "metadata": {
            "needs_background": "light"
          }
        }
      ],
      "source": [
        "plt.plot(history.history['val_loss'], 'r', history1.history['val_loss'], 'b', history2.history['val_loss'], 'y')\n",
        "plt.xlabel('Epochs')\n",
        "plt.ylabel('Validation score')\n",
        "plt.show()\n"
      ]
    },
    {
      "cell_type": "markdown",
      "metadata": {
        "id": "_M8rZcifiT6g"
      },
      "source": [
        "Adding another layer did not improve beyond the first attempt with the increase of neurons, however it did perform better than the single hidden layer model. This raises the question whether an increase of both layers and neurons will improve the models performance. "
      ]
    },
    {
      "cell_type": "markdown",
      "metadata": {
        "id": "NXzNeHs4iT6g"
      },
      "source": [
        "### 5.3.3 Increase in layers and neurons"
      ]
    },
    {
      "cell_type": "code",
      "execution_count": null,
      "metadata": {
        "id": "EoRfyDTdiT6g"
      },
      "outputs": [],
      "source": [
        "dlmodel_3 = Sequential()\n",
        "dlmodel_3.add(Dense(X_train.shape[1],activation='relu'))\n",
        "dlmodel_3.add(Dense(256,activation='relu'))\n",
        "dlmodel_3.add(Dense(256,activation='relu'))\n",
        "dlmodel_3.add(Dense(1, activation='sigmoid'))\n",
        "dlmodel_3.compile(loss='binary_crossentropy', optimizer='adam', metrics=[\"accuracy\"])"
      ]
    },
    {
      "cell_type": "code",
      "execution_count": null,
      "metadata": {
        "id": "Rh5ud4CQiT6g"
      },
      "outputs": [],
      "source": [
        "history3 = dlmodel_3.fit(X_smote, \n",
        "                    y_smote,\n",
        "                    epochs = 60,\n",
        "                    batch_size = 64,\n",
        "                    verbose=0, validation_data=(X_test, y_test))"
      ]
    },
    {
      "cell_type": "code",
      "execution_count": null,
      "metadata": {
        "id": "pDU9XiMmiT6h",
        "outputId": "6c6657e3-284b-42d0-c8ce-7fae42dbaf74",
        "colab": {
          "base_uri": "https://localhost:8080/",
          "height": 279
        }
      },
      "outputs": [
        {
          "output_type": "display_data",
          "data": {
            "text/plain": [
              "<Figure size 432x288 with 1 Axes>"
            ],
            "image/png": "[encoded data removed]"
          },
          "metadata": {
            "needs_background": "light"
          }
        }
      ],
      "source": [
        "plt.plot(history.history['val_loss'], 'r', history1.history['val_loss'], 'b', history2.history['val_loss'], 'y', history3.history['val_loss'], 'g')\n",
        "plt.xlabel('Epochs')\n",
        "plt.ylabel('Validation score')\n",
        "plt.show()"
      ]
    },
    {
      "cell_type": "markdown",
      "metadata": {
        "id": "dZzN6GKtiT6h"
      },
      "source": [
        "As shown, adding more layers and more neurons did not improve the model. The first model remains the best performing. However, 2 of the models achieved a peak validation score of over 94%, and the first model with the lowest amount of loss as well, insinuating the better model in comparisson. "
      ]
    },
    {
      "cell_type": "code",
      "execution_count": null,
      "metadata": {
        "id": "f4-nWjG7iT6h",
        "outputId": "8058d159-1fc3-4c14-fb77-8e4dd1f99a93",
        "colab": {
          "base_uri": "https://localhost:8080/",
          "height": 279
        }
      },
      "outputs": [
        {
          "output_type": "display_data",
          "data": {
            "text/plain": [
              "<Figure size 432x288 with 1 Axes>"
            ],
            "image/png": "[encoded data removed]"
          },
          "metadata": {
            "needs_background": "light"
          }
        }
      ],
      "source": [
        "plt.plot(history.history['val_accuracy'], 'r', history1.history['val_accuracy'], 'b', history2.history['val_accuracy'], 'y', history3.history['val_accuracy'], 'g')\n",
        "plt.xlabel('Epochs')\n",
        "plt.show()"
      ]
    },
    {
      "cell_type": "markdown",
      "metadata": {
        "id": "2ZtHXCYDiT6h"
      },
      "source": [
        "Thus the best model is able to predict approximately 94% (on peak) of the subscriptions outcome correct."
      ]
    }
  ],
  "metadata": {
    "kernelspec": {
      "display_name": "Python 3 (ipykernel)",
      "language": "python",
      "name": "python3"
    },
    "language_info": {
      "codemirror_mode": {
        "name": "ipython",
        "version": 3
      },
      "file_extension": ".py",
      "mimetype": "text/x-python",
      "name": "python",
      "nbconvert_exporter": "python",
      "pygments_lexer": "ipython3",
      "version": "3.9.7"
    },
    "orig_nbformat": 4,
    "colab": {
      "name": "M3-Exam.ipynb",
      "provenance": [],
      "collapsed_sections": [
        "-Z2ttD-giT6S",
        "nYy8_XnfiT6T",
        "zD2WMcIziT6T",
        "XFL7LIE7iT6W",
        "uHXU8qnKiT6W"
      ],
      "include_colab_link": true
    }
  },
  "nbformat": 4,
  "nbformat_minor": 0
}